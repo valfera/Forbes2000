{
 "cells": [
  {
   "cell_type": "markdown",
   "metadata": {},
   "source": [
    "# Forbes 2000 Largest Companies Analysis (2019)"
   ]
  },
  {
   "cell_type": "code",
   "execution_count": 1124,
   "metadata": {},
   "outputs": [],
   "source": [
    "import matplotlib.pyplot as plt\n",
    "import seaborn as sns\n",
    "import pandas as pd\n",
    "import statistics as stats\n",
    "import csv\n",
    "import re"
   ]
  },
  {
   "cell_type": "markdown",
   "metadata": {},
   "source": [
    "# Spider forbes2 needs to be fixed\n",
    "# do more year stuff\n",
    "# do a heatmap\n",
    "# gonna need plots for groupby country and industry\n",
    "# compare top 100 with the middle of the table"
   ]
  },
  {
   "cell_type": "markdown",
   "metadata": {},
   "source": [
    "### Import Scraped Data"
   ]
  },
  {
   "cell_type": "code",
   "execution_count": 917,
   "metadata": {},
   "outputs": [],
   "source": [
    "forbes1 = pd.read_csv(\"forbes1.csv\", header = None)\n",
    "forbes2 = pd.read_csv(\"forbes2.csv\", header = None)"
   ]
  },
  {
   "cell_type": "markdown",
   "metadata": {},
   "source": [
    "### Set up data frame for analysis"
   ]
  },
  {
   "cell_type": "code",
   "execution_count": 918,
   "metadata": {},
   "outputs": [
    {
     "data": {
      "text/plain": [
       "(2001, 6)"
      ]
     },
     "execution_count": 918,
     "metadata": {},
     "output_type": "execute_result"
    }
   ],
   "source": [
    "forbes1.shape"
   ]
  },
  {
   "cell_type": "code",
   "execution_count": 919,
   "metadata": {},
   "outputs": [],
   "source": [
    "forbes1.columns = ['Company', 'Country', 'Sales', 'Profits', 'Assets', 'Market Value']"
   ]
  },
  {
   "cell_type": "code",
   "execution_count": 920,
   "metadata": {},
   "outputs": [
    {
     "data": {
      "text/html": [
       "<div>\n",
       "<style scoped>\n",
       "    .dataframe tbody tr th:only-of-type {\n",
       "        vertical-align: middle;\n",
       "    }\n",
       "\n",
       "    .dataframe tbody tr th {\n",
       "        vertical-align: top;\n",
       "    }\n",
       "\n",
       "    .dataframe thead th {\n",
       "        text-align: right;\n",
       "    }\n",
       "</style>\n",
       "<table border=\"1\" class=\"dataframe\">\n",
       "  <thead>\n",
       "    <tr style=\"text-align: right;\">\n",
       "      <th></th>\n",
       "      <th>Company</th>\n",
       "      <th>Country</th>\n",
       "      <th>Sales</th>\n",
       "      <th>Profits</th>\n",
       "      <th>Assets</th>\n",
       "      <th>Market Value</th>\n",
       "    </tr>\n",
       "  </thead>\n",
       "  <tbody>\n",
       "    <tr>\n",
       "      <th>0</th>\n",
       "      <td>ICBC</td>\n",
       "      <td>China</td>\n",
       "      <td>$165.3 B</td>\n",
       "      <td>$43.7 B</td>\n",
       "      <td>$4,210.9 B</td>\n",
       "      <td>$311 B</td>\n",
       "    </tr>\n",
       "    <tr>\n",
       "      <th>1</th>\n",
       "      <td>China Construction Bank</td>\n",
       "      <td>China</td>\n",
       "      <td>$143.2 B</td>\n",
       "      <td>$37.2 B</td>\n",
       "      <td>$3,631.6 B</td>\n",
       "      <td>$261.2 B</td>\n",
       "    </tr>\n",
       "    <tr>\n",
       "      <th>2</th>\n",
       "      <td>JPMorgan Chase</td>\n",
       "      <td>United States</td>\n",
       "      <td>$118.2 B</td>\n",
       "      <td>$26.5 B</td>\n",
       "      <td>$2,609.8 B</td>\n",
       "      <td>$387.7 B</td>\n",
       "    </tr>\n",
       "    <tr>\n",
       "      <th>3</th>\n",
       "      <td>Berkshire Hathaway</td>\n",
       "      <td>United States</td>\n",
       "      <td>$235.2 B</td>\n",
       "      <td>$39.7 B</td>\n",
       "      <td>$702.7 B</td>\n",
       "      <td>$491.9 B</td>\n",
       "    </tr>\n",
       "    <tr>\n",
       "      <th>4</th>\n",
       "      <td>Agricultural Bank of China</td>\n",
       "      <td>China</td>\n",
       "      <td>$129.3 B</td>\n",
       "      <td>$29.6 B</td>\n",
       "      <td>$3,439.3 B</td>\n",
       "      <td>$184.1 B</td>\n",
       "    </tr>\n",
       "  </tbody>\n",
       "</table>\n",
       "</div>"
      ],
      "text/plain": [
       "                      Company        Country     Sales  Profits      Assets  \\\n",
       "0                        ICBC          China  $165.3 B  $43.7 B  $4,210.9 B   \n",
       "1     China Construction Bank          China  $143.2 B  $37.2 B  $3,631.6 B   \n",
       "2              JPMorgan Chase  United States  $118.2 B  $26.5 B  $2,609.8 B   \n",
       "3          Berkshire Hathaway  United States  $235.2 B  $39.7 B    $702.7 B   \n",
       "4  Agricultural Bank of China          China  $129.3 B  $29.6 B  $3,439.3 B   \n",
       "\n",
       "  Market Value  \n",
       "0       $311 B  \n",
       "1     $261.2 B  \n",
       "2     $387.7 B  \n",
       "3     $491.9 B  \n",
       "4     $184.1 B  "
      ]
     },
     "execution_count": 920,
     "metadata": {},
     "output_type": "execute_result"
    }
   ],
   "source": [
    "forbes1.head()"
   ]
  },
  {
   "cell_type": "code",
   "execution_count": 921,
   "metadata": {},
   "outputs": [
    {
     "data": {
      "text/plain": [
       "(2027, 7)"
      ]
     },
     "execution_count": 921,
     "metadata": {},
     "output_type": "execute_result"
    }
   ],
   "source": [
    "forbes2.shape"
   ]
  },
  {
   "cell_type": "code",
   "execution_count": 922,
   "metadata": {},
   "outputs": [],
   "source": [
    "forbes2 = forbes2.drop_duplicates()"
   ]
  },
  {
   "cell_type": "code",
   "execution_count": 923,
   "metadata": {},
   "outputs": [
    {
     "data": {
      "text/plain": [
       "(1998, 7)"
      ]
     },
     "execution_count": 923,
     "metadata": {},
     "output_type": "execute_result"
    }
   ],
   "source": [
    "forbes2.shape"
   ]
  },
  {
   "cell_type": "code",
   "execution_count": 924,
   "metadata": {},
   "outputs": [],
   "source": [
    "forbes2.columns = ['CompRank', 'Market Capitalization', 'Industry', 'Founded', 'Country', 'Chairman', 'Employees']"
   ]
  },
  {
   "cell_type": "code",
   "execution_count": 925,
   "metadata": {},
   "outputs": [
    {
     "data": {
      "text/html": [
       "<div>\n",
       "<style scoped>\n",
       "    .dataframe tbody tr th:only-of-type {\n",
       "        vertical-align: middle;\n",
       "    }\n",
       "\n",
       "    .dataframe tbody tr th {\n",
       "        vertical-align: top;\n",
       "    }\n",
       "\n",
       "    .dataframe thead th {\n",
       "        text-align: right;\n",
       "    }\n",
       "</style>\n",
       "<table border=\"1\" class=\"dataframe\">\n",
       "  <thead>\n",
       "    <tr style=\"text-align: right;\">\n",
       "      <th></th>\n",
       "      <th>CompRank</th>\n",
       "      <th>Market Capitalization</th>\n",
       "      <th>Industry</th>\n",
       "      <th>Founded</th>\n",
       "      <th>Country</th>\n",
       "      <th>Chairman</th>\n",
       "      <th>Employees</th>\n",
       "    </tr>\n",
       "  </thead>\n",
       "  <tbody>\n",
       "    <tr>\n",
       "      <th>0</th>\n",
       "      <td>#1 ICBC</td>\n",
       "      <td>$311B</td>\n",
       "      <td>Major Banks</td>\n",
       "      <td>1984</td>\n",
       "      <td>China</td>\n",
       "      <td>Shu Gu</td>\n",
       "      <td>453,048</td>\n",
       "    </tr>\n",
       "    <tr>\n",
       "      <th>1</th>\n",
       "      <td>#2 China Construction Bank</td>\n",
       "      <td>$261.2B</td>\n",
       "      <td>Major Banks</td>\n",
       "      <td>1954</td>\n",
       "      <td>China</td>\n",
       "      <td>Wang Zuji</td>\n",
       "      <td>352,621</td>\n",
       "    </tr>\n",
       "    <tr>\n",
       "      <th>2</th>\n",
       "      <td>#3 JPMorgan Chase</td>\n",
       "      <td>$387.7B</td>\n",
       "      <td>Major Banks</td>\n",
       "      <td>1968</td>\n",
       "      <td>United States</td>\n",
       "      <td>Jamie Dimon</td>\n",
       "      <td>252,539</td>\n",
       "    </tr>\n",
       "    <tr>\n",
       "      <th>3</th>\n",
       "      <td>#4 Berkshire Hathaway</td>\n",
       "      <td>$491.9B</td>\n",
       "      <td>Investment Services</td>\n",
       "      <td>1955</td>\n",
       "      <td>United States</td>\n",
       "      <td>Warren Buffett</td>\n",
       "      <td>377,000</td>\n",
       "    </tr>\n",
       "    <tr>\n",
       "      <th>4</th>\n",
       "      <td>#5 Agricultural Bank of China</td>\n",
       "      <td>$184.1B</td>\n",
       "      <td>Regional Banks</td>\n",
       "      <td>1951</td>\n",
       "      <td>China</td>\n",
       "      <td>Huan Zhao</td>\n",
       "      <td>487,307</td>\n",
       "    </tr>\n",
       "  </tbody>\n",
       "</table>\n",
       "</div>"
      ],
      "text/plain": [
       "                        CompRank Market Capitalization             Industry  \\\n",
       "0                        #1 ICBC                 $311B          Major Banks   \n",
       "1     #2 China Construction Bank               $261.2B          Major Banks   \n",
       "2              #3 JPMorgan Chase               $387.7B          Major Banks   \n",
       "3          #4 Berkshire Hathaway               $491.9B  Investment Services   \n",
       "4  #5 Agricultural Bank of China               $184.1B       Regional Banks   \n",
       "\n",
       "  Founded        Country        Chairman Employees  \n",
       "0    1984          China          Shu Gu   453,048  \n",
       "1    1954          China       Wang Zuji   352,621  \n",
       "2    1968  United States     Jamie Dimon   252,539  \n",
       "3    1955  United States  Warren Buffett   377,000  \n",
       "4    1951          China       Huan Zhao   487,307  "
      ]
     },
     "execution_count": 925,
     "metadata": {},
     "output_type": "execute_result"
    }
   ],
   "source": [
    "forbes2.head()"
   ]
  },
  {
   "cell_type": "markdown",
   "metadata": {},
   "source": [
    "### Fix column names so that the data frames can be merged\n",
    "CompRank combines the rank and name so they will be split and placed into separate columns"
   ]
  },
  {
   "cell_type": "code",
   "execution_count": 926,
   "metadata": {},
   "outputs": [],
   "source": [
    "forbes2[[\"Rank\", \"Name\"]] = forbes2['CompRank'].str.split(n = 1, expand = True)"
   ]
  },
  {
   "cell_type": "code",
   "execution_count": 927,
   "metadata": {},
   "outputs": [],
   "source": [
    "forbes2 = forbes2.drop(['CompRank'], axis = 1)"
   ]
  },
  {
   "cell_type": "code",
   "execution_count": 928,
   "metadata": {},
   "outputs": [],
   "source": [
    "forbes2.columns = ['Market Value', 'Industry', 'Founded', 'Country', 'Chairman', 'Employees', 'Rank', 'Company']"
   ]
  },
  {
   "cell_type": "markdown",
   "metadata": {},
   "source": [
    "# Merge data frames"
   ]
  },
  {
   "cell_type": "code",
   "execution_count": 929,
   "metadata": {},
   "outputs": [],
   "source": [
    "forbes = forbes2.merge(forbes1, on = 'Company')"
   ]
  },
  {
   "cell_type": "code",
   "execution_count": 951,
   "metadata": {},
   "outputs": [
    {
     "data": {
      "text/plain": [
       "Index(['Rank', 'Company', 'Country', 'Industry', 'Assets', 'Sales', 'Profits',\n",
       "       'Market Capitalization', 'Employees', 'Founded', 'Chairman'],\n",
       "      dtype='object')"
      ]
     },
     "execution_count": 951,
     "metadata": {},
     "output_type": "execute_result"
    }
   ],
   "source": [
    "forbes.columns"
   ]
  },
  {
   "cell_type": "code",
   "execution_count": 930,
   "metadata": {},
   "outputs": [],
   "source": [
    "forbes = forbes.drop([\"Market Value_x\", \"Country_x\"], axis = 1)"
   ]
  },
  {
   "cell_type": "code",
   "execution_count": 931,
   "metadata": {},
   "outputs": [],
   "source": [
    "cols = forbes.columns.tolist()\n",
    "cols = ['Rank', 'Company', 'Country_y', 'Industry', 'Assets', 'Sales', 'Profits', 'Market Value_y', 'Employees', 'Founded', 'Chairman']"
   ]
  },
  {
   "cell_type": "code",
   "execution_count": 932,
   "metadata": {},
   "outputs": [],
   "source": [
    "forbes = forbes[cols]"
   ]
  },
  {
   "cell_type": "code",
   "execution_count": 933,
   "metadata": {},
   "outputs": [],
   "source": [
    "forbes = forbes.rename(columns = {'Country_y': 'Country', 'Market Value_y': 'Market Capitalization'})"
   ]
  },
  {
   "cell_type": "code",
   "execution_count": 934,
   "metadata": {},
   "outputs": [
    {
     "data": {
      "text/plain": [
       "(1967, 11)"
      ]
     },
     "execution_count": 934,
     "metadata": {},
     "output_type": "execute_result"
    }
   ],
   "source": [
    "forbes.shape"
   ]
  },
  {
   "cell_type": "code",
   "execution_count": 935,
   "metadata": {},
   "outputs": [
    {
     "data": {
      "text/html": [
       "<div>\n",
       "<style scoped>\n",
       "    .dataframe tbody tr th:only-of-type {\n",
       "        vertical-align: middle;\n",
       "    }\n",
       "\n",
       "    .dataframe tbody tr th {\n",
       "        vertical-align: top;\n",
       "    }\n",
       "\n",
       "    .dataframe thead th {\n",
       "        text-align: right;\n",
       "    }\n",
       "</style>\n",
       "<table border=\"1\" class=\"dataframe\">\n",
       "  <thead>\n",
       "    <tr style=\"text-align: right;\">\n",
       "      <th></th>\n",
       "      <th>Rank</th>\n",
       "      <th>Company</th>\n",
       "      <th>Country</th>\n",
       "      <th>Industry</th>\n",
       "      <th>Assets</th>\n",
       "      <th>Sales</th>\n",
       "      <th>Profits</th>\n",
       "      <th>Market Capitalization</th>\n",
       "      <th>Employees</th>\n",
       "      <th>Founded</th>\n",
       "      <th>Chairman</th>\n",
       "    </tr>\n",
       "  </thead>\n",
       "  <tbody>\n",
       "    <tr>\n",
       "      <th>0</th>\n",
       "      <td>#1</td>\n",
       "      <td>ICBC</td>\n",
       "      <td>China</td>\n",
       "      <td>Major Banks</td>\n",
       "      <td>$4,210.9 B</td>\n",
       "      <td>$165.3 B</td>\n",
       "      <td>$43.7 B</td>\n",
       "      <td>$311 B</td>\n",
       "      <td>453,048</td>\n",
       "      <td>1984</td>\n",
       "      <td>Shu Gu</td>\n",
       "    </tr>\n",
       "    <tr>\n",
       "      <th>1</th>\n",
       "      <td>#2</td>\n",
       "      <td>China Construction Bank</td>\n",
       "      <td>China</td>\n",
       "      <td>Major Banks</td>\n",
       "      <td>$3,631.6 B</td>\n",
       "      <td>$143.2 B</td>\n",
       "      <td>$37.2 B</td>\n",
       "      <td>$261.2 B</td>\n",
       "      <td>352,621</td>\n",
       "      <td>1954</td>\n",
       "      <td>Wang Zuji</td>\n",
       "    </tr>\n",
       "    <tr>\n",
       "      <th>2</th>\n",
       "      <td>#3</td>\n",
       "      <td>JPMorgan Chase</td>\n",
       "      <td>United States</td>\n",
       "      <td>Major Banks</td>\n",
       "      <td>$2,609.8 B</td>\n",
       "      <td>$118.2 B</td>\n",
       "      <td>$26.5 B</td>\n",
       "      <td>$387.7 B</td>\n",
       "      <td>252,539</td>\n",
       "      <td>1968</td>\n",
       "      <td>Jamie Dimon</td>\n",
       "    </tr>\n",
       "    <tr>\n",
       "      <th>3</th>\n",
       "      <td>#4</td>\n",
       "      <td>Berkshire Hathaway</td>\n",
       "      <td>United States</td>\n",
       "      <td>Investment Services</td>\n",
       "      <td>$702.7 B</td>\n",
       "      <td>$235.2 B</td>\n",
       "      <td>$39.7 B</td>\n",
       "      <td>$491.9 B</td>\n",
       "      <td>377,000</td>\n",
       "      <td>1955</td>\n",
       "      <td>Warren Buffett</td>\n",
       "    </tr>\n",
       "    <tr>\n",
       "      <th>4</th>\n",
       "      <td>#5</td>\n",
       "      <td>Agricultural Bank of China</td>\n",
       "      <td>China</td>\n",
       "      <td>Regional Banks</td>\n",
       "      <td>$3,439.3 B</td>\n",
       "      <td>$129.3 B</td>\n",
       "      <td>$29.6 B</td>\n",
       "      <td>$184.1 B</td>\n",
       "      <td>487,307</td>\n",
       "      <td>1951</td>\n",
       "      <td>Huan Zhao</td>\n",
       "    </tr>\n",
       "  </tbody>\n",
       "</table>\n",
       "</div>"
      ],
      "text/plain": [
       "  Rank                     Company        Country             Industry  \\\n",
       "0   #1                        ICBC          China          Major Banks   \n",
       "1   #2     China Construction Bank          China          Major Banks   \n",
       "2   #3              JPMorgan Chase  United States          Major Banks   \n",
       "3   #4          Berkshire Hathaway  United States  Investment Services   \n",
       "4   #5  Agricultural Bank of China          China       Regional Banks   \n",
       "\n",
       "       Assets     Sales  Profits Market Capitalization Employees Founded  \\\n",
       "0  $4,210.9 B  $165.3 B  $43.7 B                $311 B   453,048    1984   \n",
       "1  $3,631.6 B  $143.2 B  $37.2 B              $261.2 B   352,621    1954   \n",
       "2  $2,609.8 B  $118.2 B  $26.5 B              $387.7 B   252,539    1968   \n",
       "3    $702.7 B  $235.2 B  $39.7 B              $491.9 B   377,000    1955   \n",
       "4  $3,439.3 B  $129.3 B  $29.6 B              $184.1 B   487,307    1951   \n",
       "\n",
       "         Chairman  \n",
       "0          Shu Gu  \n",
       "1       Wang Zuji  \n",
       "2     Jamie Dimon  \n",
       "3  Warren Buffett  \n",
       "4       Huan Zhao  "
      ]
     },
     "execution_count": 935,
     "metadata": {},
     "output_type": "execute_result"
    }
   ],
   "source": [
    "forbes.head()"
   ]
  },
  {
   "cell_type": "markdown",
   "metadata": {},
   "source": [
    "### Fix mismatched data\n",
    "Some data was mismatched in the second scraper and unfortunately have to drop some rows because the webpage has been updated."
   ]
  },
  {
   "cell_type": "code",
   "execution_count": 939,
   "metadata": {},
   "outputs": [],
   "source": [
    "forbes['Employees'] = forbes['Employees'].astype(str)\n",
    "forbesFix =  forbes.loc[forbes['Employees'].str.contains('[A-Za-z]')].index\n",
    "forbes.drop(forbesFix, inplace=True)"
   ]
  },
  {
   "cell_type": "code",
   "execution_count": 940,
   "metadata": {},
   "outputs": [],
   "source": [
    "forbes['Employees'] = forbes['Employees'].str.replace(\",\", \"\")\n",
    "forbes[\"Employees\"] = pd.to_numeric(forbes[\"Employees\"])"
   ]
  },
  {
   "cell_type": "code",
   "execution_count": 941,
   "metadata": {},
   "outputs": [
    {
     "data": {
      "text/plain": [
       "(1806, 11)"
      ]
     },
     "execution_count": 941,
     "metadata": {},
     "output_type": "execute_result"
    }
   ],
   "source": [
    "forbes.shape"
   ]
  },
  {
   "cell_type": "markdown",
   "metadata": {},
   "source": [
    "### Create function to convert dollar values"
   ]
  },
  {
   "cell_type": "code",
   "execution_count": 942,
   "metadata": {},
   "outputs": [],
   "source": [
    "def convert_str_to_float(s):\n",
    "    try:\n",
    "        num, order = s.strip().split()\n",
    "        num = float(num)\n",
    "        if order == 'B':\n",
    "            return num * 1000000000\n",
    "        elif order == 'M':\n",
    "            return num * 1000000\n",
    "        else:\n",
    "            pass\n",
    "    except:\n",
    "        pass"
   ]
  },
  {
   "cell_type": "markdown",
   "metadata": {},
   "source": [
    "### Convert dollar values to float"
   ]
  },
  {
   "cell_type": "code",
   "execution_count": 943,
   "metadata": {},
   "outputs": [
    {
     "name": "stderr",
     "output_type": "stream",
     "text": [
      "C:\\Users\\valfe\\AppData\\Local\\Temp\\ipykernel_1900\\2453056257.py:2: FutureWarning: The default value of regex will change from True to False in a future version. In addition, single character regular expressions will *not* be treated as literal strings when regex=True.\n",
      "  forbes['Assets'] = forbes['Assets'].str.replace(\"$\", \"\")\n"
     ]
    }
   ],
   "source": [
    "forbes['Assets'] = forbes['Assets'].str.replace(\",\", \"\")\n",
    "forbes['Assets'] = forbes['Assets'].str.replace(\"$\", \"\")\n",
    "forbes['Assets'] = forbes['Assets'].apply(convert_str_to_float)"
   ]
  },
  {
   "cell_type": "code",
   "execution_count": 944,
   "metadata": {},
   "outputs": [
    {
     "name": "stderr",
     "output_type": "stream",
     "text": [
      "C:\\Users\\valfe\\AppData\\Local\\Temp\\ipykernel_1900\\2184177535.py:2: FutureWarning: The default value of regex will change from True to False in a future version. In addition, single character regular expressions will *not* be treated as literal strings when regex=True.\n",
      "  forbes['Sales'] = forbes['Sales'].str.replace(\"$\", \"\")\n"
     ]
    }
   ],
   "source": [
    "forbes['Sales'] = forbes['Sales'].str.replace(\",\", \"\")\n",
    "forbes['Sales'] = forbes['Sales'].str.replace(\"$\", \"\")\n",
    "forbes['Sales'] = forbes['Sales'].apply(convert_str_to_float)"
   ]
  },
  {
   "cell_type": "code",
   "execution_count": 945,
   "metadata": {},
   "outputs": [
    {
     "name": "stderr",
     "output_type": "stream",
     "text": [
      "C:\\Users\\valfe\\AppData\\Local\\Temp\\ipykernel_1900\\2489106819.py:2: FutureWarning: The default value of regex will change from True to False in a future version. In addition, single character regular expressions will *not* be treated as literal strings when regex=True.\n",
      "  forbes['Profits'] = forbes['Profits'].str.replace(\"$\", \"\")\n"
     ]
    }
   ],
   "source": [
    "forbes['Profits'] = forbes['Profits'].str.replace(\",\", \"\")\n",
    "forbes['Profits'] = forbes['Profits'].str.replace(\"$\", \"\")\n",
    "forbes['Profits'] = forbes['Profits'].apply(convert_str_to_float)"
   ]
  },
  {
   "cell_type": "code",
   "execution_count": 946,
   "metadata": {},
   "outputs": [
    {
     "name": "stderr",
     "output_type": "stream",
     "text": [
      "C:\\Users\\valfe\\AppData\\Local\\Temp\\ipykernel_1900\\1217367912.py:2: FutureWarning: The default value of regex will change from True to False in a future version. In addition, single character regular expressions will *not* be treated as literal strings when regex=True.\n",
      "  forbes['Market Capitalization'] = forbes['Market Capitalization'].str.replace(\"$\", \"\")\n"
     ]
    }
   ],
   "source": [
    "forbes['Market Capitalization'] = forbes['Market Capitalization'].str.replace(\",\", \"\")\n",
    "forbes['Market Capitalization'] = forbes['Market Capitalization'].str.replace(\"$\", \"\")\n",
    "forbes['Market Capitalization'] = forbes['Market Capitalization'].apply(convert_str_to_float)"
   ]
  },
  {
   "cell_type": "code",
   "execution_count": 947,
   "metadata": {},
   "outputs": [],
   "source": [
    "forbes = forbes.apply(pd.to_numeric, errors='ignore')"
   ]
  },
  {
   "cell_type": "code",
   "execution_count": 948,
   "metadata": {},
   "outputs": [
    {
     "name": "stdout",
     "output_type": "stream",
     "text": [
      "Number of Numerical features:  6\n",
      "Number of Categorical features:  5\n"
     ]
    }
   ],
   "source": [
    "numerical_features = forbes.dtypes[forbes.dtypes != \"object\"].index\n",
    "print(\"Number of Numerical features: \", len(numerical_features))\n",
    "\n",
    "categorical_features = forbes.dtypes[forbes.dtypes == \"object\"].index\n",
    "print(\"Number of Categorical features: \", len(categorical_features))"
   ]
  },
  {
   "cell_type": "code",
   "execution_count": 949,
   "metadata": {},
   "outputs": [
    {
     "name": "stdout",
     "output_type": "stream",
     "text": [
      "Index(['Rank', 'Company', 'Country', 'Industry', 'Chairman'], dtype='object')\n"
     ]
    }
   ],
   "source": [
    "print(categorical_features)"
   ]
  },
  {
   "cell_type": "code",
   "execution_count": 950,
   "metadata": {},
   "outputs": [
    {
     "name": "stdout",
     "output_type": "stream",
     "text": [
      "Index(['Assets', 'Sales', 'Profits', 'Market Capitalization', 'Employees',\n",
      "       'Founded'],\n",
      "      dtype='object')\n"
     ]
    }
   ],
   "source": [
    "print(numerical_features)"
   ]
  },
  {
   "cell_type": "markdown",
   "metadata": {},
   "source": [
    "### Fix Missing Values"
   ]
  },
  {
   "cell_type": "code",
   "execution_count": 973,
   "metadata": {},
   "outputs": [
    {
     "data": {
      "text/html": [
       "<div>\n",
       "<style scoped>\n",
       "    .dataframe tbody tr th:only-of-type {\n",
       "        vertical-align: middle;\n",
       "    }\n",
       "\n",
       "    .dataframe tbody tr th {\n",
       "        vertical-align: top;\n",
       "    }\n",
       "\n",
       "    .dataframe thead th {\n",
       "        text-align: right;\n",
       "    }\n",
       "</style>\n",
       "<table border=\"1\" class=\"dataframe\">\n",
       "  <thead>\n",
       "    <tr style=\"text-align: right;\">\n",
       "      <th></th>\n",
       "      <th>Total</th>\n",
       "      <th>Percent</th>\n",
       "    </tr>\n",
       "  </thead>\n",
       "  <tbody>\n",
       "    <tr>\n",
       "      <th>Assets</th>\n",
       "      <td>3</td>\n",
       "      <td>0.001661</td>\n",
       "    </tr>\n",
       "    <tr>\n",
       "      <th>Market Capitalization</th>\n",
       "      <td>2</td>\n",
       "      <td>0.001107</td>\n",
       "    </tr>\n",
       "  </tbody>\n",
       "</table>\n",
       "</div>"
      ],
      "text/plain": [
       "                       Total   Percent\n",
       "Assets                     3  0.001661\n",
       "Market Capitalization      2  0.001107"
      ]
     },
     "execution_count": 973,
     "metadata": {},
     "output_type": "execute_result"
    }
   ],
   "source": [
    "total = forbes.isnull().sum().sort_values(ascending=False)\n",
    "percent = (forbes.isnull().sum()/forbes.isnull().count()).sort_values(ascending=False)\n",
    "missing_data = pd.concat([total, percent], axis=1, keys=['Total', 'Percent'])\n",
    "missing_data[missing_data.Percent > 0]"
   ]
  },
  {
   "cell_type": "code",
   "execution_count": 975,
   "metadata": {},
   "outputs": [
    {
     "data": {
      "text/html": [
       "<div>\n",
       "<style scoped>\n",
       "    .dataframe tbody tr th:only-of-type {\n",
       "        vertical-align: middle;\n",
       "    }\n",
       "\n",
       "    .dataframe tbody tr th {\n",
       "        vertical-align: top;\n",
       "    }\n",
       "\n",
       "    .dataframe thead th {\n",
       "        text-align: right;\n",
       "    }\n",
       "</style>\n",
       "<table border=\"1\" class=\"dataframe\">\n",
       "  <thead>\n",
       "    <tr style=\"text-align: right;\">\n",
       "      <th></th>\n",
       "      <th>Rank</th>\n",
       "      <th>Company</th>\n",
       "      <th>Country</th>\n",
       "      <th>Industry</th>\n",
       "      <th>Assets</th>\n",
       "      <th>Sales</th>\n",
       "      <th>Profits</th>\n",
       "      <th>Market Capitalization</th>\n",
       "      <th>Employees</th>\n",
       "      <th>Founded</th>\n",
       "      <th>Chairman</th>\n",
       "    </tr>\n",
       "  </thead>\n",
       "  <tbody>\n",
       "    <tr>\n",
       "      <th>824</th>\n",
       "      <td>#842</td>\n",
       "      <td>Infineon Technologies</td>\n",
       "      <td>Germany</td>\n",
       "      <td>Semiconductors</td>\n",
       "      <td>NaN</td>\n",
       "      <td>8.500000e+09</td>\n",
       "      <td>1.300000e+09</td>\n",
       "      <td>3.240000e+10</td>\n",
       "      <td>37479</td>\n",
       "      <td>1999</td>\n",
       "      <td>Reinhard Ploss</td>\n",
       "    </tr>\n",
       "    <tr>\n",
       "      <th>1623</th>\n",
       "      <td>#1650</td>\n",
       "      <td>IndusInd Bank</td>\n",
       "      <td>India</td>\n",
       "      <td>Regional Banks</td>\n",
       "      <td>NaN</td>\n",
       "      <td>2.800000e+09</td>\n",
       "      <td>4.280000e+08</td>\n",
       "      <td>1.690000e+10</td>\n",
       "      <td>25314</td>\n",
       "      <td>1994</td>\n",
       "      <td>Romesh Sobti</td>\n",
       "    </tr>\n",
       "    <tr>\n",
       "      <th>1831</th>\n",
       "      <td>#1860</td>\n",
       "      <td>Bank of Greece</td>\n",
       "      <td>Greece</td>\n",
       "      <td>Major Banks</td>\n",
       "      <td>NaN</td>\n",
       "      <td>1.700000e+09</td>\n",
       "      <td>1.100000e+09</td>\n",
       "      <td>3.540000e+08</td>\n",
       "      <td>1864</td>\n",
       "      <td>1927</td>\n",
       "      <td>Konstantinos Michalidis</td>\n",
       "    </tr>\n",
       "  </tbody>\n",
       "</table>\n",
       "</div>"
      ],
      "text/plain": [
       "       Rank                Company  Country        Industry  Assets  \\\n",
       "824    #842  Infineon Technologies  Germany  Semiconductors     NaN   \n",
       "1623  #1650          IndusInd Bank    India  Regional Banks     NaN   \n",
       "1831  #1860         Bank of Greece   Greece     Major Banks     NaN   \n",
       "\n",
       "             Sales       Profits  Market Capitalization  Employees  Founded  \\\n",
       "824   8.500000e+09  1.300000e+09           3.240000e+10      37479     1999   \n",
       "1623  2.800000e+09  4.280000e+08           1.690000e+10      25314     1994   \n",
       "1831  1.700000e+09  1.100000e+09           3.540000e+08       1864     1927   \n",
       "\n",
       "                     Chairman  \n",
       "824            Reinhard Ploss  \n",
       "1623             Romesh Sobti  \n",
       "1831  Konstantinos Michalidis  "
      ]
     },
     "execution_count": 975,
     "metadata": {},
     "output_type": "execute_result"
    }
   ],
   "source": [
    "forbes.loc[forbes['Assets'].isnull()]"
   ]
  },
  {
   "cell_type": "code",
   "execution_count": 976,
   "metadata": {},
   "outputs": [
    {
     "data": {
      "text/html": [
       "<div>\n",
       "<style scoped>\n",
       "    .dataframe tbody tr th:only-of-type {\n",
       "        vertical-align: middle;\n",
       "    }\n",
       "\n",
       "    .dataframe tbody tr th {\n",
       "        vertical-align: top;\n",
       "    }\n",
       "\n",
       "    .dataframe thead th {\n",
       "        text-align: right;\n",
       "    }\n",
       "</style>\n",
       "<table border=\"1\" class=\"dataframe\">\n",
       "  <thead>\n",
       "    <tr style=\"text-align: right;\">\n",
       "      <th></th>\n",
       "      <th>Rank</th>\n",
       "      <th>Company</th>\n",
       "      <th>Country</th>\n",
       "      <th>Industry</th>\n",
       "      <th>Assets</th>\n",
       "      <th>Sales</th>\n",
       "      <th>Profits</th>\n",
       "      <th>Market Capitalization</th>\n",
       "      <th>Employees</th>\n",
       "      <th>Founded</th>\n",
       "      <th>Chairman</th>\n",
       "    </tr>\n",
       "  </thead>\n",
       "  <tbody>\n",
       "    <tr>\n",
       "      <th>1087</th>\n",
       "      <td>#1108</td>\n",
       "      <td>Hainan Airlines</td>\n",
       "      <td>China</td>\n",
       "      <td>Airline</td>\n",
       "      <td>2.960000e+10</td>\n",
       "      <td>9.400000e+09</td>\n",
       "      <td>5.830000e+08</td>\n",
       "      <td>NaN</td>\n",
       "      <td>24772</td>\n",
       "      <td>1989</td>\n",
       "      <td>Jian Sun</td>\n",
       "    </tr>\n",
       "    <tr>\n",
       "      <th>1227</th>\n",
       "      <td>#1250</td>\n",
       "      <td>Wanhua Chemical Group</td>\n",
       "      <td>China</td>\n",
       "      <td>Specialized Chemicals</td>\n",
       "      <td>1.060000e+10</td>\n",
       "      <td>8.300000e+09</td>\n",
       "      <td>1.900000e+09</td>\n",
       "      <td>NaN</td>\n",
       "      <td>9165</td>\n",
       "      <td>1998</td>\n",
       "      <td>Yun Che</td>\n",
       "    </tr>\n",
       "  </tbody>\n",
       "</table>\n",
       "</div>"
      ],
      "text/plain": [
       "       Rank                Company Country               Industry  \\\n",
       "1087  #1108        Hainan Airlines   China                Airline   \n",
       "1227  #1250  Wanhua Chemical Group   China  Specialized Chemicals   \n",
       "\n",
       "            Assets         Sales       Profits  Market Capitalization  \\\n",
       "1087  2.960000e+10  9.400000e+09  5.830000e+08                    NaN   \n",
       "1227  1.060000e+10  8.300000e+09  1.900000e+09                    NaN   \n",
       "\n",
       "      Employees  Founded  Chairman  \n",
       "1087      24772     1989  Jian Sun  \n",
       "1227       9165     1998   Yun Che  "
      ]
     },
     "execution_count": 976,
     "metadata": {},
     "output_type": "execute_result"
    }
   ],
   "source": [
    "forbes.loc[forbes['Market Capitalization'].isnull()]"
   ]
  },
  {
   "cell_type": "markdown",
   "metadata": {},
   "source": [
    "Not sure what to do with missing values yet. They are all in foreign companies and could just be due to lack of information. Imputing with the mean could be a good option."
   ]
  },
  {
   "cell_type": "markdown",
   "metadata": {},
   "source": [
    "# Analysis"
   ]
  },
  {
   "cell_type": "markdown",
   "metadata": {},
   "source": [
    "Do a correlation heatmap"
   ]
  },
  {
   "cell_type": "code",
   "execution_count": 1088,
   "metadata": {},
   "outputs": [
    {
     "data": {
      "text/html": [
       "<div>\n",
       "<style scoped>\n",
       "    .dataframe tbody tr th:only-of-type {\n",
       "        vertical-align: middle;\n",
       "    }\n",
       "\n",
       "    .dataframe tbody tr th {\n",
       "        vertical-align: top;\n",
       "    }\n",
       "\n",
       "    .dataframe thead th {\n",
       "        text-align: right;\n",
       "    }\n",
       "</style>\n",
       "<table border=\"1\" class=\"dataframe\">\n",
       "  <thead>\n",
       "    <tr style=\"text-align: right;\">\n",
       "      <th></th>\n",
       "      <th>Assets</th>\n",
       "      <th>Sales</th>\n",
       "      <th>Profits</th>\n",
       "      <th>Market Capitalization</th>\n",
       "      <th>Employees</th>\n",
       "      <th>Founded</th>\n",
       "    </tr>\n",
       "  </thead>\n",
       "  <tbody>\n",
       "    <tr>\n",
       "      <th>Assets</th>\n",
       "      <td>1.000000</td>\n",
       "      <td>0.367808</td>\n",
       "      <td>0.490986</td>\n",
       "      <td>0.320224</td>\n",
       "      <td>0.224837</td>\n",
       "      <td>-0.081017</td>\n",
       "    </tr>\n",
       "    <tr>\n",
       "      <th>Sales</th>\n",
       "      <td>0.367808</td>\n",
       "      <td>1.000000</td>\n",
       "      <td>0.571442</td>\n",
       "      <td>0.554797</td>\n",
       "      <td>0.634357</td>\n",
       "      <td>-0.069690</td>\n",
       "    </tr>\n",
       "    <tr>\n",
       "      <th>Profits</th>\n",
       "      <td>0.490986</td>\n",
       "      <td>0.571442</td>\n",
       "      <td>1.000000</td>\n",
       "      <td>0.714161</td>\n",
       "      <td>0.314648</td>\n",
       "      <td>-0.035513</td>\n",
       "    </tr>\n",
       "    <tr>\n",
       "      <th>Market Capitalization</th>\n",
       "      <td>0.320224</td>\n",
       "      <td>0.554797</td>\n",
       "      <td>0.714161</td>\n",
       "      <td>1.000000</td>\n",
       "      <td>0.308573</td>\n",
       "      <td>-0.032288</td>\n",
       "    </tr>\n",
       "    <tr>\n",
       "      <th>Employees</th>\n",
       "      <td>0.224837</td>\n",
       "      <td>0.634357</td>\n",
       "      <td>0.314648</td>\n",
       "      <td>0.308573</td>\n",
       "      <td>1.000000</td>\n",
       "      <td>-0.038618</td>\n",
       "    </tr>\n",
       "    <tr>\n",
       "      <th>Founded</th>\n",
       "      <td>-0.081017</td>\n",
       "      <td>-0.069690</td>\n",
       "      <td>-0.035513</td>\n",
       "      <td>-0.032288</td>\n",
       "      <td>-0.038618</td>\n",
       "      <td>1.000000</td>\n",
       "    </tr>\n",
       "  </tbody>\n",
       "</table>\n",
       "</div>"
      ],
      "text/plain": [
       "                         Assets     Sales   Profits  Market Capitalization  \\\n",
       "Assets                 1.000000  0.367808  0.490986               0.320224   \n",
       "Sales                  0.367808  1.000000  0.571442               0.554797   \n",
       "Profits                0.490986  0.571442  1.000000               0.714161   \n",
       "Market Capitalization  0.320224  0.554797  0.714161               1.000000   \n",
       "Employees              0.224837  0.634357  0.314648               0.308573   \n",
       "Founded               -0.081017 -0.069690 -0.035513              -0.032288   \n",
       "\n",
       "                       Employees   Founded  \n",
       "Assets                  0.224837 -0.081017  \n",
       "Sales                   0.634357 -0.069690  \n",
       "Profits                 0.314648 -0.035513  \n",
       "Market Capitalization   0.308573 -0.032288  \n",
       "Employees               1.000000 -0.038618  \n",
       "Founded                -0.038618  1.000000  "
      ]
     },
     "execution_count": 1088,
     "metadata": {},
     "output_type": "execute_result"
    }
   ],
   "source": [
    "forbes.corr()"
   ]
  },
  {
   "cell_type": "code",
   "execution_count": null,
   "metadata": {},
   "outputs": [],
   "source": []
  },
  {
   "cell_type": "code",
   "execution_count": null,
   "metadata": {},
   "outputs": [],
   "source": []
  },
  {
   "cell_type": "code",
   "execution_count": null,
   "metadata": {},
   "outputs": [],
   "source": []
  },
  {
   "cell_type": "code",
   "execution_count": null,
   "metadata": {},
   "outputs": [],
   "source": []
  },
  {
   "cell_type": "markdown",
   "metadata": {},
   "source": [
    "### Year Stuff\n",
    "Binning for year founded is likely going to be beneficial"
   ]
  },
  {
   "cell_type": "code",
   "execution_count": null,
   "metadata": {},
   "outputs": [],
   "source": []
  },
  {
   "cell_type": "code",
   "execution_count": 1107,
   "metadata": {},
   "outputs": [],
   "source": [
    "forbes_FoundedCount = forbes.groupby('Founded', as_index = False).count()"
   ]
  },
  {
   "cell_type": "code",
   "execution_count": 1108,
   "metadata": {},
   "outputs": [],
   "source": [
    "#cols = forbes_FoundedCount.columns.tolist()\n",
    "#cols"
   ]
  },
  {
   "cell_type": "code",
   "execution_count": 1109,
   "metadata": {},
   "outputs": [],
   "source": [
    "cols = ['Founded', 'Rank']"
   ]
  },
  {
   "cell_type": "code",
   "execution_count": 1110,
   "metadata": {},
   "outputs": [],
   "source": [
    "forbes_FoundedCount = forbes_FoundedCount[cols]"
   ]
  },
  {
   "cell_type": "code",
   "execution_count": 1111,
   "metadata": {},
   "outputs": [],
   "source": [
    "forbes_FoundedCount = forbes_FoundedCount.rename(columns = {'Rank': 'Count'})"
   ]
  },
  {
   "cell_type": "code",
   "execution_count": 1112,
   "metadata": {},
   "outputs": [],
   "source": [
    "forbes_FoundedCount = forbes_FoundedCount.sort_values(by = ['Count'], ascending = False)"
   ]
  },
  {
   "cell_type": "code",
   "execution_count": 1113,
   "metadata": {},
   "outputs": [],
   "source": [
    "forbes_FoundedCount = forbes_FoundedCount.reset_index()"
   ]
  },
  {
   "cell_type": "code",
   "execution_count": 1114,
   "metadata": {},
   "outputs": [],
   "source": [
    "forbes_FoundedCount = forbes_FoundedCount.drop('index', axis = 1)"
   ]
  },
  {
   "cell_type": "code",
   "execution_count": 1115,
   "metadata": {},
   "outputs": [],
   "source": [
    "forbes_FoundedCount.index = forbes_FoundedCount.index + 1"
   ]
  },
  {
   "cell_type": "code",
   "execution_count": 1121,
   "metadata": {},
   "outputs": [],
   "source": [
    "forbes_FoundedCountTop = forbes_FoundedCount.iloc[:10]"
   ]
  },
  {
   "cell_type": "code",
   "execution_count": 1122,
   "metadata": {},
   "outputs": [
    {
     "data": {
      "text/html": [
       "<div>\n",
       "<style scoped>\n",
       "    .dataframe tbody tr th:only-of-type {\n",
       "        vertical-align: middle;\n",
       "    }\n",
       "\n",
       "    .dataframe tbody tr th {\n",
       "        vertical-align: top;\n",
       "    }\n",
       "\n",
       "    .dataframe thead th {\n",
       "        text-align: right;\n",
       "    }\n",
       "</style>\n",
       "<table border=\"1\" class=\"dataframe\">\n",
       "  <thead>\n",
       "    <tr style=\"text-align: right;\">\n",
       "      <th></th>\n",
       "      <th>Founded</th>\n",
       "      <th>Count</th>\n",
       "    </tr>\n",
       "  </thead>\n",
       "  <tbody>\n",
       "    <tr>\n",
       "      <th>1</th>\n",
       "      <td>1997</td>\n",
       "      <td>43</td>\n",
       "    </tr>\n",
       "    <tr>\n",
       "      <th>2</th>\n",
       "      <td>1996</td>\n",
       "      <td>36</td>\n",
       "    </tr>\n",
       "    <tr>\n",
       "      <th>3</th>\n",
       "      <td>1999</td>\n",
       "      <td>33</td>\n",
       "    </tr>\n",
       "    <tr>\n",
       "      <th>4</th>\n",
       "      <td>1995</td>\n",
       "      <td>32</td>\n",
       "    </tr>\n",
       "    <tr>\n",
       "      <th>5</th>\n",
       "      <td>1994</td>\n",
       "      <td>29</td>\n",
       "    </tr>\n",
       "    <tr>\n",
       "      <th>6</th>\n",
       "      <td>2005</td>\n",
       "      <td>28</td>\n",
       "    </tr>\n",
       "    <tr>\n",
       "      <th>7</th>\n",
       "      <td>1985</td>\n",
       "      <td>27</td>\n",
       "    </tr>\n",
       "    <tr>\n",
       "      <th>8</th>\n",
       "      <td>1998</td>\n",
       "      <td>26</td>\n",
       "    </tr>\n",
       "    <tr>\n",
       "      <th>9</th>\n",
       "      <td>2000</td>\n",
       "      <td>26</td>\n",
       "    </tr>\n",
       "    <tr>\n",
       "      <th>10</th>\n",
       "      <td>1993</td>\n",
       "      <td>26</td>\n",
       "    </tr>\n",
       "  </tbody>\n",
       "</table>\n",
       "</div>"
      ],
      "text/plain": [
       "    Founded  Count\n",
       "1      1997     43\n",
       "2      1996     36\n",
       "3      1999     33\n",
       "4      1995     32\n",
       "5      1994     29\n",
       "6      2005     28\n",
       "7      1985     27\n",
       "8      1998     26\n",
       "9      2000     26\n",
       "10     1993     26"
      ]
     },
     "execution_count": 1122,
     "metadata": {},
     "output_type": "execute_result"
    }
   ],
   "source": [
    "forbes_FoundedCountTop"
   ]
  },
  {
   "cell_type": "code",
   "execution_count": 1123,
   "metadata": {},
   "outputs": [
    {
     "data": {
      "image/png": "[encoded data removed]",
      "text/plain": [
       "<Figure size 432x288 with 1 Axes>"
      ]
     },
     "metadata": {
      "needs_background": "light"
     },
     "output_type": "display_data"
    }
   ],
   "source": [
    "founded_bar = sns.barplot(x = 'Founded', y = 'Count', data = forbes_FoundedCountTop, palette = 'deep')"
   ]
  },
  {
   "cell_type": "code",
   "execution_count": null,
   "metadata": {},
   "outputs": [],
   "source": []
  },
  {
   "cell_type": "code",
   "execution_count": null,
   "metadata": {},
   "outputs": [],
   "source": []
  },
  {
   "cell_type": "code",
   "execution_count": null,
   "metadata": {},
   "outputs": [],
   "source": []
  },
  {
   "cell_type": "code",
   "execution_count": null,
   "metadata": {},
   "outputs": [],
   "source": []
  },
  {
   "cell_type": "markdown",
   "metadata": {},
   "source": [
    "### Top Companies\n",
    "Rank, Company will serve as indices"
   ]
  },
  {
   "cell_type": "code",
   "execution_count": null,
   "metadata": {},
   "outputs": [],
   "source": []
  },
  {
   "cell_type": "code",
   "execution_count": null,
   "metadata": {},
   "outputs": [],
   "source": []
  },
  {
   "cell_type": "code",
   "execution_count": null,
   "metadata": {},
   "outputs": [],
   "source": []
  },
  {
   "cell_type": "code",
   "execution_count": null,
   "metadata": {},
   "outputs": [],
   "source": []
  },
  {
   "cell_type": "code",
   "execution_count": null,
   "metadata": {},
   "outputs": [],
   "source": []
  },
  {
   "cell_type": "markdown",
   "metadata": {},
   "source": [
    "### Group by country:"
   ]
  },
  {
   "cell_type": "code",
   "execution_count": 1030,
   "metadata": {},
   "outputs": [],
   "source": [
    "forbes_CountryCount = forbes.groupby('Country', as_index = False).count()"
   ]
  },
  {
   "cell_type": "code",
   "execution_count": 1031,
   "metadata": {},
   "outputs": [
    {
     "data": {
      "text/plain": [
       "['Country',\n",
       " 'Rank',\n",
       " 'Company',\n",
       " 'Industry',\n",
       " 'Assets',\n",
       " 'Sales',\n",
       " 'Profits',\n",
       " 'Market Capitalization',\n",
       " 'Employees',\n",
       " 'Founded',\n",
       " 'Chairman']"
      ]
     },
     "execution_count": 1031,
     "metadata": {},
     "output_type": "execute_result"
    }
   ],
   "source": [
    "cols = forbes_CountryCount.columns.tolist()\n",
    "cols"
   ]
  },
  {
   "cell_type": "code",
   "execution_count": 1032,
   "metadata": {},
   "outputs": [],
   "source": [
    "cols = ['Country', 'Rank']"
   ]
  },
  {
   "cell_type": "code",
   "execution_count": 1033,
   "metadata": {},
   "outputs": [],
   "source": [
    "forbes_CountryCount = forbes_CountryCount[cols]"
   ]
  },
  {
   "cell_type": "code",
   "execution_count": 1034,
   "metadata": {},
   "outputs": [],
   "source": [
    "forbes_CountryCount = forbes_CountryCount.rename(columns = {'Rank': 'Count'})"
   ]
  },
  {
   "cell_type": "code",
   "execution_count": 1035,
   "metadata": {},
   "outputs": [],
   "source": [
    "forbes_CountryCount = forbes_CountryCount.sort_values(by = ['Count'], ascending = False)"
   ]
  },
  {
   "cell_type": "code",
   "execution_count": 1036,
   "metadata": {},
   "outputs": [],
   "source": [
    "forbes_CountryCount = forbes_CountryCount.reset_index()"
   ]
  },
  {
   "cell_type": "code",
   "execution_count": 1037,
   "metadata": {},
   "outputs": [],
   "source": [
    "forbes_CountryCount = forbes_CountryCount.drop('index', axis = 1)"
   ]
  },
  {
   "cell_type": "code",
   "execution_count": 1038,
   "metadata": {},
   "outputs": [],
   "source": [
    "forbes_CountryCount = forbes_CountryCount.iloc[:20]"
   ]
  },
  {
   "cell_type": "code",
   "execution_count": 1039,
   "metadata": {},
   "outputs": [],
   "source": [
    "forbes_CountryCount.index = forbes_CountryCount.index + 1"
   ]
  },
  {
   "cell_type": "code",
   "execution_count": 1040,
   "metadata": {},
   "outputs": [
    {
     "data": {
      "text/html": [
       "<div>\n",
       "<style scoped>\n",
       "    .dataframe tbody tr th:only-of-type {\n",
       "        vertical-align: middle;\n",
       "    }\n",
       "\n",
       "    .dataframe tbody tr th {\n",
       "        vertical-align: top;\n",
       "    }\n",
       "\n",
       "    .dataframe thead th {\n",
       "        text-align: right;\n",
       "    }\n",
       "</style>\n",
       "<table border=\"1\" class=\"dataframe\">\n",
       "  <thead>\n",
       "    <tr style=\"text-align: right;\">\n",
       "      <th></th>\n",
       "      <th>Country</th>\n",
       "      <th>Count</th>\n",
       "    </tr>\n",
       "  </thead>\n",
       "  <tbody>\n",
       "    <tr>\n",
       "      <th>1</th>\n",
       "      <td>United States</td>\n",
       "      <td>522</td>\n",
       "    </tr>\n",
       "    <tr>\n",
       "      <th>2</th>\n",
       "      <td>Japan</td>\n",
       "      <td>208</td>\n",
       "    </tr>\n",
       "    <tr>\n",
       "      <th>3</th>\n",
       "      <td>China</td>\n",
       "      <td>187</td>\n",
       "    </tr>\n",
       "    <tr>\n",
       "      <th>4</th>\n",
       "      <td>United Kingdom</td>\n",
       "      <td>81</td>\n",
       "    </tr>\n",
       "    <tr>\n",
       "      <th>5</th>\n",
       "      <td>South Korea</td>\n",
       "      <td>55</td>\n",
       "    </tr>\n",
       "    <tr>\n",
       "      <th>6</th>\n",
       "      <td>France</td>\n",
       "      <td>54</td>\n",
       "    </tr>\n",
       "    <tr>\n",
       "      <th>7</th>\n",
       "      <td>India</td>\n",
       "      <td>52</td>\n",
       "    </tr>\n",
       "    <tr>\n",
       "      <th>8</th>\n",
       "      <td>Hong Kong</td>\n",
       "      <td>51</td>\n",
       "    </tr>\n",
       "    <tr>\n",
       "      <th>9</th>\n",
       "      <td>Germany</td>\n",
       "      <td>50</td>\n",
       "    </tr>\n",
       "    <tr>\n",
       "      <th>10</th>\n",
       "      <td>Canada</td>\n",
       "      <td>45</td>\n",
       "    </tr>\n",
       "    <tr>\n",
       "      <th>11</th>\n",
       "      <td>Taiwan</td>\n",
       "      <td>42</td>\n",
       "    </tr>\n",
       "    <tr>\n",
       "      <th>12</th>\n",
       "      <td>Switzerland</td>\n",
       "      <td>40</td>\n",
       "    </tr>\n",
       "    <tr>\n",
       "      <th>13</th>\n",
       "      <td>Australia</td>\n",
       "      <td>31</td>\n",
       "    </tr>\n",
       "    <tr>\n",
       "      <th>14</th>\n",
       "      <td>Sweden</td>\n",
       "      <td>25</td>\n",
       "    </tr>\n",
       "    <tr>\n",
       "      <th>15</th>\n",
       "      <td>Spain</td>\n",
       "      <td>24</td>\n",
       "    </tr>\n",
       "    <tr>\n",
       "      <th>16</th>\n",
       "      <td>Italy</td>\n",
       "      <td>23</td>\n",
       "    </tr>\n",
       "    <tr>\n",
       "      <th>17</th>\n",
       "      <td>Russia</td>\n",
       "      <td>23</td>\n",
       "    </tr>\n",
       "    <tr>\n",
       "      <th>18</th>\n",
       "      <td>Netherlands</td>\n",
       "      <td>22</td>\n",
       "    </tr>\n",
       "    <tr>\n",
       "      <th>19</th>\n",
       "      <td>Ireland</td>\n",
       "      <td>18</td>\n",
       "    </tr>\n",
       "    <tr>\n",
       "      <th>20</th>\n",
       "      <td>Brazil</td>\n",
       "      <td>18</td>\n",
       "    </tr>\n",
       "  </tbody>\n",
       "</table>\n",
       "</div>"
      ],
      "text/plain": [
       "           Country  Count\n",
       "1    United States    522\n",
       "2            Japan    208\n",
       "3            China    187\n",
       "4   United Kingdom     81\n",
       "5      South Korea     55\n",
       "6           France     54\n",
       "7            India     52\n",
       "8        Hong Kong     51\n",
       "9          Germany     50\n",
       "10          Canada     45\n",
       "11          Taiwan     42\n",
       "12     Switzerland     40\n",
       "13       Australia     31\n",
       "14          Sweden     25\n",
       "15           Spain     24\n",
       "16           Italy     23\n",
       "17          Russia     23\n",
       "18     Netherlands     22\n",
       "19         Ireland     18\n",
       "20          Brazil     18"
      ]
     },
     "execution_count": 1040,
     "metadata": {},
     "output_type": "execute_result"
    }
   ],
   "source": [
    "forbes_CountryCount"
   ]
  },
  {
   "cell_type": "code",
   "execution_count": 1131,
   "metadata": {},
   "outputs": [
    {
     "data": {
      "image/png": "[encoded data removed]",
      "text/plain": [
       "<Figure size 432x288 with 1 Axes>"
      ]
     },
     "metadata": {
      "needs_background": "light"
     },
     "output_type": "display_data"
    }
   ],
   "source": [
    "country_bar = sns.barplot(x = 'Count', y = 'Country', data = forbes_CountryCount, orient = 'h', palette = 'tab10').set_title(\"Countries With Most Companies in Forbes Top 2000\")"
   ]
  },
  {
   "cell_type": "code",
   "execution_count": null,
   "metadata": {},
   "outputs": [],
   "source": []
  },
  {
   "cell_type": "markdown",
   "metadata": {},
   "source": [
    "### Group by Industry"
   ]
  },
  {
   "cell_type": "code",
   "execution_count": 1069,
   "metadata": {},
   "outputs": [],
   "source": [
    "forbes_IndustryCount = forbes.groupby('Industry', as_index = False).count()"
   ]
  },
  {
   "cell_type": "code",
   "execution_count": 1077,
   "metadata": {},
   "outputs": [],
   "source": [
    "cols = ['Industry', 'Rank']"
   ]
  },
  {
   "cell_type": "code",
   "execution_count": 1078,
   "metadata": {},
   "outputs": [],
   "source": [
    "forbes_IndustryCount = forbes_IndustryCount[cols]"
   ]
  },
  {
   "cell_type": "code",
   "execution_count": 1080,
   "metadata": {},
   "outputs": [
    {
     "data": {
      "text/html": [
       "<div>\n",
       "<style scoped>\n",
       "    .dataframe tbody tr th:only-of-type {\n",
       "        vertical-align: middle;\n",
       "    }\n",
       "\n",
       "    .dataframe tbody tr th {\n",
       "        vertical-align: top;\n",
       "    }\n",
       "\n",
       "    .dataframe thead th {\n",
       "        text-align: right;\n",
       "    }\n",
       "</style>\n",
       "<table border=\"1\" class=\"dataframe\">\n",
       "  <thead>\n",
       "    <tr style=\"text-align: right;\">\n",
       "      <th></th>\n",
       "      <th>Industry</th>\n",
       "      <th>Count</th>\n",
       "    </tr>\n",
       "  </thead>\n",
       "  <tbody>\n",
       "    <tr>\n",
       "      <th>0</th>\n",
       "      <td>Advertising</td>\n",
       "      <td>6</td>\n",
       "    </tr>\n",
       "    <tr>\n",
       "      <th>1</th>\n",
       "      <td>Aerospace &amp; Defense</td>\n",
       "      <td>21</td>\n",
       "    </tr>\n",
       "    <tr>\n",
       "      <th>2</th>\n",
       "      <td>Air Courier</td>\n",
       "      <td>6</td>\n",
       "    </tr>\n",
       "    <tr>\n",
       "      <th>3</th>\n",
       "      <td>Airline</td>\n",
       "      <td>24</td>\n",
       "    </tr>\n",
       "    <tr>\n",
       "      <th>4</th>\n",
       "      <td>Aluminum</td>\n",
       "      <td>7</td>\n",
       "    </tr>\n",
       "    <tr>\n",
       "      <th>...</th>\n",
       "      <td>...</td>\n",
       "      <td>...</td>\n",
       "    </tr>\n",
       "    <tr>\n",
       "      <th>77</th>\n",
       "      <td>Telecommunications services</td>\n",
       "      <td>52</td>\n",
       "    </tr>\n",
       "    <tr>\n",
       "      <th>78</th>\n",
       "      <td>Thrifts &amp; Mortgage Finance</td>\n",
       "      <td>1</td>\n",
       "    </tr>\n",
       "    <tr>\n",
       "      <th>79</th>\n",
       "      <td>Tobacco</td>\n",
       "      <td>8</td>\n",
       "    </tr>\n",
       "    <tr>\n",
       "      <th>80</th>\n",
       "      <td>Trading Companies</td>\n",
       "      <td>14</td>\n",
       "    </tr>\n",
       "    <tr>\n",
       "      <th>81</th>\n",
       "      <td>Trucking</td>\n",
       "      <td>6</td>\n",
       "    </tr>\n",
       "  </tbody>\n",
       "</table>\n",
       "<p>82 rows × 2 columns</p>\n",
       "</div>"
      ],
      "text/plain": [
       "                       Industry  Count\n",
       "0                   Advertising      6\n",
       "1           Aerospace & Defense     21\n",
       "2                   Air Courier      6\n",
       "3                       Airline     24\n",
       "4                      Aluminum      7\n",
       "..                          ...    ...\n",
       "77  Telecommunications services     52\n",
       "78   Thrifts & Mortgage Finance      1\n",
       "79                      Tobacco      8\n",
       "80            Trading Companies     14\n",
       "81                     Trucking      6\n",
       "\n",
       "[82 rows x 2 columns]"
      ]
     },
     "execution_count": 1080,
     "metadata": {},
     "output_type": "execute_result"
    }
   ],
   "source": [
    "forbes_IndustryCount"
   ]
  },
  {
   "cell_type": "code",
   "execution_count": 1079,
   "metadata": {},
   "outputs": [],
   "source": [
    "forbes_IndustryCount = forbes_IndustryCount.rename(columns = {'Rank': 'Count'})"
   ]
  },
  {
   "cell_type": "code",
   "execution_count": 1081,
   "metadata": {},
   "outputs": [],
   "source": [
    "forbes_IndustryCount = forbes_IndustryCount.sort_values(by = ['Count'], ascending = False)"
   ]
  },
  {
   "cell_type": "code",
   "execution_count": 1082,
   "metadata": {},
   "outputs": [],
   "source": [
    "forbes_IndustryCount = forbes_IndustryCount.iloc[:15]"
   ]
  },
  {
   "cell_type": "code",
   "execution_count": 1083,
   "metadata": {},
   "outputs": [],
   "source": [
    "forbes_IndustryCount = forbes_IndustryCount.reset_index()"
   ]
  },
  {
   "cell_type": "code",
   "execution_count": 1084,
   "metadata": {},
   "outputs": [],
   "source": [
    "forbes_IndustryCount = forbes_IndustryCount.drop('index', axis = 1)"
   ]
  },
  {
   "cell_type": "code",
   "execution_count": 1085,
   "metadata": {},
   "outputs": [],
   "source": [
    "forbes_IndustryCount.index = forbes_IndustryCount.index + 1 "
   ]
  },
  {
   "cell_type": "code",
   "execution_count": 1086,
   "metadata": {},
   "outputs": [
    {
     "data": {
      "text/html": [
       "<div>\n",
       "<style scoped>\n",
       "    .dataframe tbody tr th:only-of-type {\n",
       "        vertical-align: middle;\n",
       "    }\n",
       "\n",
       "    .dataframe tbody tr th {\n",
       "        vertical-align: top;\n",
       "    }\n",
       "\n",
       "    .dataframe thead th {\n",
       "        text-align: right;\n",
       "    }\n",
       "</style>\n",
       "<table border=\"1\" class=\"dataframe\">\n",
       "  <thead>\n",
       "    <tr style=\"text-align: right;\">\n",
       "      <th></th>\n",
       "      <th>Industry</th>\n",
       "      <th>Count</th>\n",
       "    </tr>\n",
       "  </thead>\n",
       "  <tbody>\n",
       "    <tr>\n",
       "      <th>1</th>\n",
       "      <td>Regional Banks</td>\n",
       "      <td>225</td>\n",
       "    </tr>\n",
       "    <tr>\n",
       "      <th>2</th>\n",
       "      <td>Oil &amp; Gas Operations</td>\n",
       "      <td>79</td>\n",
       "    </tr>\n",
       "    <tr>\n",
       "      <th>3</th>\n",
       "      <td>Investment Services</td>\n",
       "      <td>79</td>\n",
       "    </tr>\n",
       "    <tr>\n",
       "      <th>4</th>\n",
       "      <td>Electric Utilities</td>\n",
       "      <td>74</td>\n",
       "    </tr>\n",
       "    <tr>\n",
       "      <th>5</th>\n",
       "      <td>Real Estate</td>\n",
       "      <td>71</td>\n",
       "    </tr>\n",
       "    <tr>\n",
       "      <th>6</th>\n",
       "      <td>Major Banks</td>\n",
       "      <td>60</td>\n",
       "    </tr>\n",
       "    <tr>\n",
       "      <th>7</th>\n",
       "      <td>Telecommunications services</td>\n",
       "      <td>52</td>\n",
       "    </tr>\n",
       "    <tr>\n",
       "      <th>8</th>\n",
       "      <td>Construction Services</td>\n",
       "      <td>48</td>\n",
       "    </tr>\n",
       "    <tr>\n",
       "      <th>9</th>\n",
       "      <td>Diversified Insurance</td>\n",
       "      <td>45</td>\n",
       "    </tr>\n",
       "    <tr>\n",
       "      <th>10</th>\n",
       "      <td>Business &amp; Personal Services</td>\n",
       "      <td>40</td>\n",
       "    </tr>\n",
       "    <tr>\n",
       "      <th>11</th>\n",
       "      <td>Food Processing</td>\n",
       "      <td>40</td>\n",
       "    </tr>\n",
       "    <tr>\n",
       "      <th>12</th>\n",
       "      <td>Pharmaceuticals</td>\n",
       "      <td>39</td>\n",
       "    </tr>\n",
       "    <tr>\n",
       "      <th>13</th>\n",
       "      <td>Diversified Metals &amp; Mining</td>\n",
       "      <td>38</td>\n",
       "    </tr>\n",
       "    <tr>\n",
       "      <th>14</th>\n",
       "      <td>Iron &amp; Steel</td>\n",
       "      <td>35</td>\n",
       "    </tr>\n",
       "    <tr>\n",
       "      <th>15</th>\n",
       "      <td>Life &amp; Health Insurance</td>\n",
       "      <td>33</td>\n",
       "    </tr>\n",
       "  </tbody>\n",
       "</table>\n",
       "</div>"
      ],
      "text/plain": [
       "                        Industry  Count\n",
       "1                 Regional Banks    225\n",
       "2           Oil & Gas Operations     79\n",
       "3            Investment Services     79\n",
       "4             Electric Utilities     74\n",
       "5                    Real Estate     71\n",
       "6                    Major Banks     60\n",
       "7    Telecommunications services     52\n",
       "8          Construction Services     48\n",
       "9          Diversified Insurance     45\n",
       "10  Business & Personal Services     40\n",
       "11               Food Processing     40\n",
       "12               Pharmaceuticals     39\n",
       "13   Diversified Metals & Mining     38\n",
       "14                  Iron & Steel     35\n",
       "15       Life & Health Insurance     33"
      ]
     },
     "execution_count": 1086,
     "metadata": {},
     "output_type": "execute_result"
    }
   ],
   "source": [
    "forbes_IndustryCount"
   ]
  },
  {
   "cell_type": "code",
   "execution_count": 1087,
   "metadata": {},
   "outputs": [
    {
     "data": {
      "image/png": "[encoded data removed]",
      "text/plain": [
       "<Figure size 432x288 with 1 Axes>"
      ]
     },
     "metadata": {
      "needs_background": "light"
     },
     "output_type": "display_data"
    }
   ],
   "source": [
    "industry_bar = sns.barplot(x = 'Count', y='Industry', data = forbes_IndustryCount, palette = 'dark', orient = 'h')"
   ]
  },
  {
   "cell_type": "code",
   "execution_count": null,
   "metadata": {},
   "outputs": [],
   "source": []
  },
  {
   "cell_type": "markdown",
   "metadata": {},
   "source": [
    "### Group by Country and Industry\n",
    "You will probably want to do a for loop to get plots for each country"
   ]
  },
  {
   "cell_type": "code",
   "execution_count": 1057,
   "metadata": {},
   "outputs": [],
   "source": [
    "forbes_country_industry = forbes.groupby(['Country', 'Industry']).size()"
   ]
  },
  {
   "cell_type": "code",
   "execution_count": 1060,
   "metadata": {},
   "outputs": [
    {
     "data": {
      "text/plain": [
       "Country    Industry                    \n",
       "Argentina  Oil & Gas Operations            1\n",
       "           Regional Banks                  1\n",
       "Australia  Airline                         1\n",
       "           Business & Personal Services    1\n",
       "           Casinos & Gaming                1\n",
       "                                          ..\n",
       "China      Diversified Insurance           2\n",
       "           Diversified Metals & Mining     8\n",
       "           Diversified Utilities           1\n",
       "           Drug Retail                     1\n",
       "           Electric Utilities              8\n",
       "Length: 100, dtype: int64"
      ]
     },
     "execution_count": 1060,
     "metadata": {},
     "output_type": "execute_result"
    }
   ],
   "source": [
    "forbes_country_industry.head(100)"
   ]
  },
  {
   "cell_type": "code",
   "execution_count": null,
   "metadata": {},
   "outputs": [],
   "source": []
  },
  {
   "cell_type": "code",
   "execution_count": null,
   "metadata": {},
   "outputs": [],
   "source": []
  },
  {
   "cell_type": "code",
   "execution_count": null,
   "metadata": {},
   "outputs": [],
   "source": []
  },
  {
   "cell_type": "code",
   "execution_count": null,
   "metadata": {},
   "outputs": [],
   "source": []
  },
  {
   "cell_type": "markdown",
   "metadata": {},
   "source": [
    "##### Group American companies by industry"
   ]
  },
  {
   "cell_type": "code",
   "execution_count": 1091,
   "metadata": {},
   "outputs": [],
   "source": [
    "forbes_US = forbes.loc[forbes['Country'] == 'United States']"
   ]
  },
  {
   "cell_type": "code",
   "execution_count": 1092,
   "metadata": {},
   "outputs": [
    {
     "data": {
      "text/html": [
       "<div>\n",
       "<style scoped>\n",
       "    .dataframe tbody tr th:only-of-type {\n",
       "        vertical-align: middle;\n",
       "    }\n",
       "\n",
       "    .dataframe tbody tr th {\n",
       "        vertical-align: top;\n",
       "    }\n",
       "\n",
       "    .dataframe thead th {\n",
       "        text-align: right;\n",
       "    }\n",
       "</style>\n",
       "<table border=\"1\" class=\"dataframe\">\n",
       "  <thead>\n",
       "    <tr style=\"text-align: right;\">\n",
       "      <th></th>\n",
       "      <th>Rank</th>\n",
       "      <th>Company</th>\n",
       "      <th>Country</th>\n",
       "      <th>Industry</th>\n",
       "      <th>Assets</th>\n",
       "      <th>Sales</th>\n",
       "      <th>Profits</th>\n",
       "      <th>Market Capitalization</th>\n",
       "      <th>Employees</th>\n",
       "      <th>Founded</th>\n",
       "      <th>Chairman</th>\n",
       "    </tr>\n",
       "  </thead>\n",
       "  <tbody>\n",
       "    <tr>\n",
       "      <th>385</th>\n",
       "      <td>#394</td>\n",
       "      <td>Fannie Mae</td>\n",
       "      <td>United States</td>\n",
       "      <td>Investment Services</td>\n",
       "      <td>3.364400e+12</td>\n",
       "      <td>1.141000e+11</td>\n",
       "      <td>4.000000e+09</td>\n",
       "      <td>1.500000e+09</td>\n",
       "      <td>7200</td>\n",
       "      <td>1938</td>\n",
       "      <td>Tim Mayopoulos</td>\n",
       "    </tr>\n",
       "    <tr>\n",
       "      <th>2</th>\n",
       "      <td>#3</td>\n",
       "      <td>JPMorgan Chase</td>\n",
       "      <td>United States</td>\n",
       "      <td>Major Banks</td>\n",
       "      <td>2.609800e+12</td>\n",
       "      <td>1.182000e+11</td>\n",
       "      <td>2.650000e+10</td>\n",
       "      <td>3.877000e+11</td>\n",
       "      <td>252539</td>\n",
       "      <td>1968</td>\n",
       "      <td>Jamie Dimon</td>\n",
       "    </tr>\n",
       "    <tr>\n",
       "      <th>5</th>\n",
       "      <td>#6</td>\n",
       "      <td>Bank of America</td>\n",
       "      <td>United States</td>\n",
       "      <td>Major Banks</td>\n",
       "      <td>2.328500e+12</td>\n",
       "      <td>1.030000e+11</td>\n",
       "      <td>2.030000e+10</td>\n",
       "      <td>3.135000e+11</td>\n",
       "      <td>209000</td>\n",
       "      <td>1904</td>\n",
       "      <td>Brian Moynihan</td>\n",
       "    </tr>\n",
       "    <tr>\n",
       "      <th>378</th>\n",
       "      <td>#387</td>\n",
       "      <td>Freddie Mac</td>\n",
       "      <td>United States</td>\n",
       "      <td>Investment Services</td>\n",
       "      <td>2.022500e+12</td>\n",
       "      <td>7.350000e+10</td>\n",
       "      <td>6.300000e+09</td>\n",
       "      <td>8.580000e+08</td>\n",
       "      <td>6185</td>\n",
       "      <td>1970</td>\n",
       "      <td>Donald Layton</td>\n",
       "    </tr>\n",
       "    <tr>\n",
       "      <th>365</th>\n",
       "      <td>#374</td>\n",
       "      <td>Citigroup</td>\n",
       "      <td>United States</td>\n",
       "      <td>Major Banks</td>\n",
       "      <td>1.922100e+12</td>\n",
       "      <td>9.050000e+10</td>\n",
       "      <td>-5.800000e+09</td>\n",
       "      <td>1.858000e+11</td>\n",
       "      <td>209000</td>\n",
       "      <td>1998</td>\n",
       "      <td>Michael Corbat</td>\n",
       "    </tr>\n",
       "    <tr>\n",
       "      <th>...</th>\n",
       "      <td>...</td>\n",
       "      <td>...</td>\n",
       "      <td>...</td>\n",
       "      <td>...</td>\n",
       "      <td>...</td>\n",
       "      <td>...</td>\n",
       "      <td>...</td>\n",
       "      <td>...</td>\n",
       "      <td>...</td>\n",
       "      <td>...</td>\n",
       "      <td>...</td>\n",
       "    </tr>\n",
       "    <tr>\n",
       "      <th>1851</th>\n",
       "      <td>#1881</td>\n",
       "      <td>Murphy USA</td>\n",
       "      <td>United States</td>\n",
       "      <td>Specialty Stores</td>\n",
       "      <td>2.300000e+09</td>\n",
       "      <td>1.310000e+10</td>\n",
       "      <td>2.880000e+08</td>\n",
       "      <td>2.200000e+09</td>\n",
       "      <td>9600</td>\n",
       "      <td>2013</td>\n",
       "      <td>R. Clyde</td>\n",
       "    </tr>\n",
       "    <tr>\n",
       "      <th>1918</th>\n",
       "      <td>#1952</td>\n",
       "      <td>Match Group</td>\n",
       "      <td>United States</td>\n",
       "      <td>Software &amp; Programming</td>\n",
       "      <td>2.200000e+09</td>\n",
       "      <td>1.400000e+09</td>\n",
       "      <td>4.310000e+08</td>\n",
       "      <td>1.120000e+10</td>\n",
       "      <td>1400</td>\n",
       "      <td>2009</td>\n",
       "      <td>Mandy Ginsberg</td>\n",
       "    </tr>\n",
       "    <tr>\n",
       "      <th>1910</th>\n",
       "      <td>#1941</td>\n",
       "      <td>Splunk</td>\n",
       "      <td>United States</td>\n",
       "      <td>Computer Services</td>\n",
       "      <td>2.000000e+09</td>\n",
       "      <td>1.300000e+09</td>\n",
       "      <td>-2.590000e+08</td>\n",
       "      <td>1.680000e+10</td>\n",
       "      <td>3200</td>\n",
       "      <td>2003</td>\n",
       "      <td>Doug Merritt</td>\n",
       "    </tr>\n",
       "    <tr>\n",
       "      <th>1739</th>\n",
       "      <td>#1767</td>\n",
       "      <td>Align Technology</td>\n",
       "      <td>United States</td>\n",
       "      <td>Medical Equipment &amp; Supplies</td>\n",
       "      <td>1.800000e+09</td>\n",
       "      <td>1.600000e+09</td>\n",
       "      <td>2.580000e+08</td>\n",
       "      <td>2.300000e+10</td>\n",
       "      <td>8715</td>\n",
       "      <td>1997</td>\n",
       "      <td>Joseph Hogan</td>\n",
       "    </tr>\n",
       "    <tr>\n",
       "      <th>1929</th>\n",
       "      <td>#1963</td>\n",
       "      <td>Chaparral Energy</td>\n",
       "      <td>United States</td>\n",
       "      <td>Oil &amp; Gas Operations</td>\n",
       "      <td>1.200000e+09</td>\n",
       "      <td>2.940000e+08</td>\n",
       "      <td>9.230000e+08</td>\n",
       "      <td>9.880000e+08</td>\n",
       "      <td>216</td>\n",
       "      <td>1988</td>\n",
       "      <td>K. Reynolds</td>\n",
       "    </tr>\n",
       "  </tbody>\n",
       "</table>\n",
       "<p>522 rows × 11 columns</p>\n",
       "</div>"
      ],
      "text/plain": [
       "       Rank           Company        Country                      Industry  \\\n",
       "385    #394        Fannie Mae  United States           Investment Services   \n",
       "2        #3    JPMorgan Chase  United States                   Major Banks   \n",
       "5        #6   Bank of America  United States                   Major Banks   \n",
       "378    #387       Freddie Mac  United States           Investment Services   \n",
       "365    #374         Citigroup  United States                   Major Banks   \n",
       "...     ...               ...            ...                           ...   \n",
       "1851  #1881        Murphy USA  United States              Specialty Stores   \n",
       "1918  #1952       Match Group  United States        Software & Programming   \n",
       "1910  #1941            Splunk  United States             Computer Services   \n",
       "1739  #1767  Align Technology  United States  Medical Equipment & Supplies   \n",
       "1929  #1963  Chaparral Energy  United States          Oil & Gas Operations   \n",
       "\n",
       "            Assets         Sales       Profits  Market Capitalization  \\\n",
       "385   3.364400e+12  1.141000e+11  4.000000e+09           1.500000e+09   \n",
       "2     2.609800e+12  1.182000e+11  2.650000e+10           3.877000e+11   \n",
       "5     2.328500e+12  1.030000e+11  2.030000e+10           3.135000e+11   \n",
       "378   2.022500e+12  7.350000e+10  6.300000e+09           8.580000e+08   \n",
       "365   1.922100e+12  9.050000e+10 -5.800000e+09           1.858000e+11   \n",
       "...            ...           ...           ...                    ...   \n",
       "1851  2.300000e+09  1.310000e+10  2.880000e+08           2.200000e+09   \n",
       "1918  2.200000e+09  1.400000e+09  4.310000e+08           1.120000e+10   \n",
       "1910  2.000000e+09  1.300000e+09 -2.590000e+08           1.680000e+10   \n",
       "1739  1.800000e+09  1.600000e+09  2.580000e+08           2.300000e+10   \n",
       "1929  1.200000e+09  2.940000e+08  9.230000e+08           9.880000e+08   \n",
       "\n",
       "      Employees  Founded        Chairman  \n",
       "385        7200     1938  Tim Mayopoulos  \n",
       "2        252539     1968     Jamie Dimon  \n",
       "5        209000     1904  Brian Moynihan  \n",
       "378        6185     1970   Donald Layton  \n",
       "365      209000     1998  Michael Corbat  \n",
       "...         ...      ...             ...  \n",
       "1851       9600     2013        R. Clyde  \n",
       "1918       1400     2009  Mandy Ginsberg  \n",
       "1910       3200     2003    Doug Merritt  \n",
       "1739       8715     1997    Joseph Hogan  \n",
       "1929        216     1988     K. Reynolds  \n",
       "\n",
       "[522 rows x 11 columns]"
      ]
     },
     "execution_count": 1092,
     "metadata": {},
     "output_type": "execute_result"
    }
   ],
   "source": [
    "forbes_US.sort_values('Assets', ascending = False)"
   ]
  },
  {
   "cell_type": "code",
   "execution_count": null,
   "metadata": {},
   "outputs": [],
   "source": []
  },
  {
   "cell_type": "code",
   "execution_count": 1093,
   "metadata": {},
   "outputs": [],
   "source": [
    "forbes_USIndustry = forbes_US.groupby('Industry', as_index = False).count()"
   ]
  },
  {
   "cell_type": "code",
   "execution_count": 1094,
   "metadata": {},
   "outputs": [
    {
     "data": {
      "text/html": [
       "<div>\n",
       "<style scoped>\n",
       "    .dataframe tbody tr th:only-of-type {\n",
       "        vertical-align: middle;\n",
       "    }\n",
       "\n",
       "    .dataframe tbody tr th {\n",
       "        vertical-align: top;\n",
       "    }\n",
       "\n",
       "    .dataframe thead th {\n",
       "        text-align: right;\n",
       "    }\n",
       "</style>\n",
       "<table border=\"1\" class=\"dataframe\">\n",
       "  <thead>\n",
       "    <tr style=\"text-align: right;\">\n",
       "      <th></th>\n",
       "      <th>Industry</th>\n",
       "      <th>Rank</th>\n",
       "      <th>Company</th>\n",
       "      <th>Country</th>\n",
       "      <th>Assets</th>\n",
       "      <th>Sales</th>\n",
       "      <th>Profits</th>\n",
       "      <th>Market Capitalization</th>\n",
       "      <th>Employees</th>\n",
       "      <th>Founded</th>\n",
       "      <th>Chairman</th>\n",
       "    </tr>\n",
       "  </thead>\n",
       "  <tbody>\n",
       "    <tr>\n",
       "      <th>0</th>\n",
       "      <td>Advertising</td>\n",
       "      <td>2</td>\n",
       "      <td>2</td>\n",
       "      <td>2</td>\n",
       "      <td>2</td>\n",
       "      <td>2</td>\n",
       "      <td>2</td>\n",
       "      <td>2</td>\n",
       "      <td>2</td>\n",
       "      <td>2</td>\n",
       "      <td>2</td>\n",
       "    </tr>\n",
       "    <tr>\n",
       "      <th>1</th>\n",
       "      <td>Aerospace &amp; Defense</td>\n",
       "      <td>12</td>\n",
       "      <td>12</td>\n",
       "      <td>12</td>\n",
       "      <td>12</td>\n",
       "      <td>12</td>\n",
       "      <td>12</td>\n",
       "      <td>12</td>\n",
       "      <td>12</td>\n",
       "      <td>12</td>\n",
       "      <td>12</td>\n",
       "    </tr>\n",
       "    <tr>\n",
       "      <th>2</th>\n",
       "      <td>Air Courier</td>\n",
       "      <td>3</td>\n",
       "      <td>3</td>\n",
       "      <td>3</td>\n",
       "      <td>3</td>\n",
       "      <td>3</td>\n",
       "      <td>3</td>\n",
       "      <td>3</td>\n",
       "      <td>3</td>\n",
       "      <td>3</td>\n",
       "      <td>3</td>\n",
       "    </tr>\n",
       "    <tr>\n",
       "      <th>3</th>\n",
       "      <td>Airline</td>\n",
       "      <td>6</td>\n",
       "      <td>6</td>\n",
       "      <td>6</td>\n",
       "      <td>6</td>\n",
       "      <td>6</td>\n",
       "      <td>6</td>\n",
       "      <td>6</td>\n",
       "      <td>6</td>\n",
       "      <td>6</td>\n",
       "      <td>6</td>\n",
       "    </tr>\n",
       "    <tr>\n",
       "      <th>4</th>\n",
       "      <td>Aluminum</td>\n",
       "      <td>2</td>\n",
       "      <td>2</td>\n",
       "      <td>2</td>\n",
       "      <td>2</td>\n",
       "      <td>2</td>\n",
       "      <td>2</td>\n",
       "      <td>2</td>\n",
       "      <td>2</td>\n",
       "      <td>2</td>\n",
       "      <td>2</td>\n",
       "    </tr>\n",
       "    <tr>\n",
       "      <th>...</th>\n",
       "      <td>...</td>\n",
       "      <td>...</td>\n",
       "      <td>...</td>\n",
       "      <td>...</td>\n",
       "      <td>...</td>\n",
       "      <td>...</td>\n",
       "      <td>...</td>\n",
       "      <td>...</td>\n",
       "      <td>...</td>\n",
       "      <td>...</td>\n",
       "      <td>...</td>\n",
       "    </tr>\n",
       "    <tr>\n",
       "      <th>73</th>\n",
       "      <td>Specialized Chemicals</td>\n",
       "      <td>8</td>\n",
       "      <td>8</td>\n",
       "      <td>8</td>\n",
       "      <td>8</td>\n",
       "      <td>8</td>\n",
       "      <td>8</td>\n",
       "      <td>8</td>\n",
       "      <td>8</td>\n",
       "      <td>8</td>\n",
       "      <td>8</td>\n",
       "    </tr>\n",
       "    <tr>\n",
       "      <th>74</th>\n",
       "      <td>Specialty Stores</td>\n",
       "      <td>12</td>\n",
       "      <td>12</td>\n",
       "      <td>12</td>\n",
       "      <td>12</td>\n",
       "      <td>12</td>\n",
       "      <td>12</td>\n",
       "      <td>12</td>\n",
       "      <td>12</td>\n",
       "      <td>12</td>\n",
       "      <td>12</td>\n",
       "    </tr>\n",
       "    <tr>\n",
       "      <th>75</th>\n",
       "      <td>Telecommunications services</td>\n",
       "      <td>7</td>\n",
       "      <td>7</td>\n",
       "      <td>7</td>\n",
       "      <td>7</td>\n",
       "      <td>7</td>\n",
       "      <td>7</td>\n",
       "      <td>7</td>\n",
       "      <td>7</td>\n",
       "      <td>7</td>\n",
       "      <td>7</td>\n",
       "    </tr>\n",
       "    <tr>\n",
       "      <th>76</th>\n",
       "      <td>Tobacco</td>\n",
       "      <td>2</td>\n",
       "      <td>2</td>\n",
       "      <td>2</td>\n",
       "      <td>2</td>\n",
       "      <td>2</td>\n",
       "      <td>2</td>\n",
       "      <td>2</td>\n",
       "      <td>2</td>\n",
       "      <td>2</td>\n",
       "      <td>2</td>\n",
       "    </tr>\n",
       "    <tr>\n",
       "      <th>77</th>\n",
       "      <td>Trucking</td>\n",
       "      <td>3</td>\n",
       "      <td>3</td>\n",
       "      <td>3</td>\n",
       "      <td>3</td>\n",
       "      <td>3</td>\n",
       "      <td>3</td>\n",
       "      <td>3</td>\n",
       "      <td>3</td>\n",
       "      <td>3</td>\n",
       "      <td>3</td>\n",
       "    </tr>\n",
       "  </tbody>\n",
       "</table>\n",
       "<p>78 rows × 11 columns</p>\n",
       "</div>"
      ],
      "text/plain": [
       "                       Industry  Rank  Company  Country  Assets  Sales  \\\n",
       "0                   Advertising     2        2        2       2      2   \n",
       "1           Aerospace & Defense    12       12       12      12     12   \n",
       "2                   Air Courier     3        3        3       3      3   \n",
       "3                       Airline     6        6        6       6      6   \n",
       "4                      Aluminum     2        2        2       2      2   \n",
       "..                          ...   ...      ...      ...     ...    ...   \n",
       "73        Specialized Chemicals     8        8        8       8      8   \n",
       "74             Specialty Stores    12       12       12      12     12   \n",
       "75  Telecommunications services     7        7        7       7      7   \n",
       "76                      Tobacco     2        2        2       2      2   \n",
       "77                     Trucking     3        3        3       3      3   \n",
       "\n",
       "    Profits  Market Capitalization  Employees  Founded  Chairman  \n",
       "0         2                      2          2        2         2  \n",
       "1        12                     12         12       12        12  \n",
       "2         3                      3          3        3         3  \n",
       "3         6                      6          6        6         6  \n",
       "4         2                      2          2        2         2  \n",
       "..      ...                    ...        ...      ...       ...  \n",
       "73        8                      8          8        8         8  \n",
       "74       12                     12         12       12        12  \n",
       "75        7                      7          7        7         7  \n",
       "76        2                      2          2        2         2  \n",
       "77        3                      3          3        3         3  \n",
       "\n",
       "[78 rows x 11 columns]"
      ]
     },
     "execution_count": 1094,
     "metadata": {},
     "output_type": "execute_result"
    }
   ],
   "source": [
    "forbes_USIndustry"
   ]
  },
  {
   "cell_type": "code",
   "execution_count": null,
   "metadata": {},
   "outputs": [],
   "source": []
  },
  {
   "cell_type": "code",
   "execution_count": 1097,
   "metadata": {},
   "outputs": [],
   "source": [
    "cols = ['Industry', 'Rank']"
   ]
  },
  {
   "cell_type": "code",
   "execution_count": 1098,
   "metadata": {},
   "outputs": [],
   "source": [
    "forbes_USIndustry = forbes_USIndustry[cols]"
   ]
  },
  {
   "cell_type": "code",
   "execution_count": 1099,
   "metadata": {},
   "outputs": [],
   "source": [
    "forbes_USIndustry = forbes_USIndustry.rename(columns = {'Rank': 'Count'})"
   ]
  },
  {
   "cell_type": "code",
   "execution_count": 1100,
   "metadata": {},
   "outputs": [],
   "source": [
    "forbes_USIndustry = forbes_USIndustry.sort_values(by = ['Count'], ascending = False)"
   ]
  },
  {
   "cell_type": "code",
   "execution_count": 1101,
   "metadata": {},
   "outputs": [],
   "source": [
    "forbes_USIndustry = forbes_USIndustry.reset_index()"
   ]
  },
  {
   "cell_type": "code",
   "execution_count": 1102,
   "metadata": {},
   "outputs": [],
   "source": [
    "forbes_USIndustry = forbes_USIndustry.iloc[:20]"
   ]
  },
  {
   "cell_type": "code",
   "execution_count": 1103,
   "metadata": {},
   "outputs": [],
   "source": [
    "forbes_USIndustry = forbes_USIndustry.drop('index', axis = 1)"
   ]
  },
  {
   "cell_type": "code",
   "execution_count": 1104,
   "metadata": {},
   "outputs": [],
   "source": [
    "forbes_USIndustry.index = forbes_USIndustry.index + 1"
   ]
  },
  {
   "cell_type": "code",
   "execution_count": 1105,
   "metadata": {},
   "outputs": [
    {
     "data": {
      "text/html": [
       "<div>\n",
       "<style scoped>\n",
       "    .dataframe tbody tr th:only-of-type {\n",
       "        vertical-align: middle;\n",
       "    }\n",
       "\n",
       "    .dataframe tbody tr th {\n",
       "        vertical-align: top;\n",
       "    }\n",
       "\n",
       "    .dataframe thead th {\n",
       "        text-align: right;\n",
       "    }\n",
       "</style>\n",
       "<table border=\"1\" class=\"dataframe\">\n",
       "  <thead>\n",
       "    <tr style=\"text-align: right;\">\n",
       "      <th></th>\n",
       "      <th>Industry</th>\n",
       "      <th>Count</th>\n",
       "    </tr>\n",
       "  </thead>\n",
       "  <tbody>\n",
       "    <tr>\n",
       "      <th>1</th>\n",
       "      <td>Oil &amp; Gas Operations</td>\n",
       "      <td>28</td>\n",
       "    </tr>\n",
       "    <tr>\n",
       "      <th>2</th>\n",
       "      <td>Real Estate</td>\n",
       "      <td>25</td>\n",
       "    </tr>\n",
       "    <tr>\n",
       "      <th>3</th>\n",
       "      <td>Investment Services</td>\n",
       "      <td>24</td>\n",
       "    </tr>\n",
       "    <tr>\n",
       "      <th>4</th>\n",
       "      <td>Electric Utilities</td>\n",
       "      <td>24</td>\n",
       "    </tr>\n",
       "    <tr>\n",
       "      <th>5</th>\n",
       "      <td>Regional Banks</td>\n",
       "      <td>19</td>\n",
       "    </tr>\n",
       "    <tr>\n",
       "      <th>6</th>\n",
       "      <td>Business &amp; Personal Services</td>\n",
       "      <td>18</td>\n",
       "    </tr>\n",
       "    <tr>\n",
       "      <th>7</th>\n",
       "      <td>Semiconductors</td>\n",
       "      <td>17</td>\n",
       "    </tr>\n",
       "    <tr>\n",
       "      <th>8</th>\n",
       "      <td>Food Processing</td>\n",
       "      <td>14</td>\n",
       "    </tr>\n",
       "    <tr>\n",
       "      <th>9</th>\n",
       "      <td>Software &amp; Programming</td>\n",
       "      <td>14</td>\n",
       "    </tr>\n",
       "    <tr>\n",
       "      <th>10</th>\n",
       "      <td>Specialty Stores</td>\n",
       "      <td>12</td>\n",
       "    </tr>\n",
       "    <tr>\n",
       "      <th>11</th>\n",
       "      <td>Aerospace &amp; Defense</td>\n",
       "      <td>12</td>\n",
       "    </tr>\n",
       "    <tr>\n",
       "      <th>12</th>\n",
       "      <td>Major Banks</td>\n",
       "      <td>11</td>\n",
       "    </tr>\n",
       "    <tr>\n",
       "      <th>13</th>\n",
       "      <td>Diversified Insurance</td>\n",
       "      <td>11</td>\n",
       "    </tr>\n",
       "    <tr>\n",
       "      <th>14</th>\n",
       "      <td>Pharmaceuticals</td>\n",
       "      <td>11</td>\n",
       "    </tr>\n",
       "    <tr>\n",
       "      <th>15</th>\n",
       "      <td>Healthcare Services</td>\n",
       "      <td>10</td>\n",
       "    </tr>\n",
       "    <tr>\n",
       "      <th>16</th>\n",
       "      <td>Household/Personal Care</td>\n",
       "      <td>10</td>\n",
       "    </tr>\n",
       "    <tr>\n",
       "      <th>17</th>\n",
       "      <td>Medical Equipment &amp; Supplies</td>\n",
       "      <td>10</td>\n",
       "    </tr>\n",
       "    <tr>\n",
       "      <th>18</th>\n",
       "      <td>Conglomerates</td>\n",
       "      <td>9</td>\n",
       "    </tr>\n",
       "    <tr>\n",
       "      <th>19</th>\n",
       "      <td>Biotechs</td>\n",
       "      <td>9</td>\n",
       "    </tr>\n",
       "    <tr>\n",
       "      <th>20</th>\n",
       "      <td>Broadcasting &amp; Cable</td>\n",
       "      <td>8</td>\n",
       "    </tr>\n",
       "  </tbody>\n",
       "</table>\n",
       "</div>"
      ],
      "text/plain": [
       "                        Industry  Count\n",
       "1           Oil & Gas Operations     28\n",
       "2                    Real Estate     25\n",
       "3            Investment Services     24\n",
       "4             Electric Utilities     24\n",
       "5                 Regional Banks     19\n",
       "6   Business & Personal Services     18\n",
       "7                 Semiconductors     17\n",
       "8                Food Processing     14\n",
       "9         Software & Programming     14\n",
       "10              Specialty Stores     12\n",
       "11           Aerospace & Defense     12\n",
       "12                   Major Banks     11\n",
       "13         Diversified Insurance     11\n",
       "14               Pharmaceuticals     11\n",
       "15           Healthcare Services     10\n",
       "16       Household/Personal Care     10\n",
       "17  Medical Equipment & Supplies     10\n",
       "18                 Conglomerates      9\n",
       "19                      Biotechs      9\n",
       "20          Broadcasting & Cable      8"
      ]
     },
     "execution_count": 1105,
     "metadata": {},
     "output_type": "execute_result"
    }
   ],
   "source": [
    "forbes_USIndustry"
   ]
  },
  {
   "cell_type": "code",
   "execution_count": 1106,
   "metadata": {},
   "outputs": [
    {
     "data": {
      "image/png": "[encoded data removed]",
      "text/plain": [
       "<Figure size 432x288 with 1 Axes>"
      ]
     },
     "metadata": {
      "needs_background": "light"
     },
     "output_type": "display_data"
    }
   ],
   "source": [
    "USIndustry_bar = sns.barplot(x = 'Count', y = 'Industry', data = forbes_USIndustry, orient = 'h', palette = 'Dark2')"
   ]
  },
  {
   "cell_type": "code",
   "execution_count": null,
   "metadata": {},
   "outputs": [],
   "source": []
  },
  {
   "cell_type": "code",
   "execution_count": 56,
   "metadata": {},
   "outputs": [],
   "source": []
  },
  {
   "cell_type": "code",
   "execution_count": null,
   "metadata": {},
   "outputs": [],
   "source": []
  },
  {
   "cell_type": "markdown",
   "metadata": {},
   "source": [
    "Regression/Scatter plots for numerical data: Assets, Sales, Profits, Market Cap, Employees"
   ]
  },
  {
   "cell_type": "code",
   "execution_count": 59,
   "metadata": {},
   "outputs": [],
   "source": []
  },
  {
   "cell_type": "code",
   "execution_count": 60,
   "metadata": {},
   "outputs": [],
   "source": []
  },
  {
   "cell_type": "code",
   "execution_count": 61,
   "metadata": {},
   "outputs": [],
   "source": []
  },
  {
   "cell_type": "code",
   "execution_count": 62,
   "metadata": {},
   "outputs": [],
   "source": []
  },
  {
   "cell_type": "code",
   "execution_count": 63,
   "metadata": {},
   "outputs": [],
   "source": []
  },
  {
   "cell_type": "code",
   "execution_count": 64,
   "metadata": {},
   "outputs": [],
   "source": []
  },
  {
   "cell_type": "code",
   "execution_count": 65,
   "metadata": {},
   "outputs": [],
   "source": []
  },
  {
   "cell_type": "code",
   "execution_count": null,
   "metadata": {},
   "outputs": [],
   "source": []
  },
  {
   "cell_type": "code",
   "execution_count": null,
   "metadata": {},
   "outputs": [],
   "source": []
  },
  {
   "cell_type": "code",
   "execution_count": null,
   "metadata": {},
   "outputs": [],
   "source": []
  },
  {
   "cell_type": "markdown",
   "metadata": {},
   "source": [
    "# Presentation"
   ]
  },
  {
   "cell_type": "code",
   "execution_count": null,
   "metadata": {},
   "outputs": [],
   "source": []
  },
  {
   "cell_type": "code",
   "execution_count": null,
   "metadata": {},
   "outputs": [],
   "source": []
  },
  {
   "cell_type": "code",
   "execution_count": 95,
   "metadata": {},
   "outputs": [
    {
     "data": {
      "text/html": [
       "<div>\n",
       "<style scoped>\n",
       "    .dataframe tbody tr th:only-of-type {\n",
       "        vertical-align: middle;\n",
       "    }\n",
       "\n",
       "    .dataframe tbody tr th {\n",
       "        vertical-align: top;\n",
       "    }\n",
       "\n",
       "    .dataframe thead th {\n",
       "        text-align: right;\n",
       "    }\n",
       "</style>\n",
       "<table border=\"1\" class=\"dataframe\">\n",
       "  <thead>\n",
       "    <tr style=\"text-align: right;\">\n",
       "      <th></th>\n",
       "      <th>Industry</th>\n",
       "      <th>Count</th>\n",
       "    </tr>\n",
       "  </thead>\n",
       "  <tbody>\n",
       "    <tr>\n",
       "      <th>1</th>\n",
       "      <td>Regional Banks</td>\n",
       "      <td>241</td>\n",
       "    </tr>\n",
       "    <tr>\n",
       "      <th>2</th>\n",
       "      <td>Investment Services</td>\n",
       "      <td>88</td>\n",
       "    </tr>\n",
       "    <tr>\n",
       "      <th>3</th>\n",
       "      <td>Oil &amp; Gas Operations</td>\n",
       "      <td>82</td>\n",
       "    </tr>\n",
       "    <tr>\n",
       "      <th>4</th>\n",
       "      <td>Real Estate</td>\n",
       "      <td>82</td>\n",
       "    </tr>\n",
       "    <tr>\n",
       "      <th>5</th>\n",
       "      <td>Electric Utilities</td>\n",
       "      <td>79</td>\n",
       "    </tr>\n",
       "    <tr>\n",
       "      <th>6</th>\n",
       "      <td>Major Banks</td>\n",
       "      <td>61</td>\n",
       "    </tr>\n",
       "    <tr>\n",
       "      <th>7</th>\n",
       "      <td>Construction Services</td>\n",
       "      <td>53</td>\n",
       "    </tr>\n",
       "    <tr>\n",
       "      <th>8</th>\n",
       "      <td>Telecommunications services</td>\n",
       "      <td>53</td>\n",
       "    </tr>\n",
       "    <tr>\n",
       "      <th>9</th>\n",
       "      <td>Diversified Insurance</td>\n",
       "      <td>49</td>\n",
       "    </tr>\n",
       "    <tr>\n",
       "      <th>10</th>\n",
       "      <td>Food Processing</td>\n",
       "      <td>44</td>\n",
       "    </tr>\n",
       "    <tr>\n",
       "      <th>11</th>\n",
       "      <td>Business &amp; Personal Services</td>\n",
       "      <td>42</td>\n",
       "    </tr>\n",
       "    <tr>\n",
       "      <th>12</th>\n",
       "      <td>Diversified Metals &amp; Mining</td>\n",
       "      <td>41</td>\n",
       "    </tr>\n",
       "    <tr>\n",
       "      <th>13</th>\n",
       "      <td>Pharmaceuticals</td>\n",
       "      <td>41</td>\n",
       "    </tr>\n",
       "    <tr>\n",
       "      <th>14</th>\n",
       "      <td>Iron &amp; Steel</td>\n",
       "      <td>37</td>\n",
       "    </tr>\n",
       "    <tr>\n",
       "      <th>15</th>\n",
       "      <td>Life &amp; Health Insurance</td>\n",
       "      <td>35</td>\n",
       "    </tr>\n",
       "  </tbody>\n",
       "</table>\n",
       "</div>"
      ],
      "text/plain": [
       "                        Industry  Count\n",
       "1                 Regional Banks    241\n",
       "2            Investment Services     88\n",
       "3           Oil & Gas Operations     82\n",
       "4                    Real Estate     82\n",
       "5             Electric Utilities     79\n",
       "6                    Major Banks     61\n",
       "7          Construction Services     53\n",
       "8    Telecommunications services     53\n",
       "9          Diversified Insurance     49\n",
       "10               Food Processing     44\n",
       "11  Business & Personal Services     42\n",
       "12   Diversified Metals & Mining     41\n",
       "13               Pharmaceuticals     41\n",
       "14                  Iron & Steel     37\n",
       "15       Life & Health Insurance     35"
      ]
     },
     "execution_count": 95,
     "metadata": {},
     "output_type": "execute_result"
    }
   ],
   "source": [
    "forbes_IndustryCount"
   ]
  },
  {
   "cell_type": "code",
   "execution_count": 96,
   "metadata": {},
   "outputs": [
    {
     "data": {
      "image/png": "[encoded data removed]",
      "text/plain": [
       "<Figure size 432x288 with 1 Axes>"
      ]
     },
     "metadata": {
      "needs_background": "light"
     },
     "output_type": "display_data"
    }
   ],
   "source": [
    "industry_bar = sns.barplot(x='Count', y='Industry', data = forbes_IndustryCount, palette = 'dark', orient = 'h').set_title(\"Most Recurring Industries in Forbes Top 2000\")"
   ]
  },
  {
   "cell_type": "code",
   "execution_count": 97,
   "metadata": {},
   "outputs": [
    {
     "data": {
      "text/html": [
       "<div>\n",
       "<style scoped>\n",
       "    .dataframe tbody tr th:only-of-type {\n",
       "        vertical-align: middle;\n",
       "    }\n",
       "\n",
       "    .dataframe tbody tr th {\n",
       "        vertical-align: top;\n",
       "    }\n",
       "\n",
       "    .dataframe thead th {\n",
       "        text-align: right;\n",
       "    }\n",
       "</style>\n",
       "<table border=\"1\" class=\"dataframe\">\n",
       "  <thead>\n",
       "    <tr style=\"text-align: right;\">\n",
       "      <th></th>\n",
       "      <th>Industry</th>\n",
       "      <th>Count</th>\n",
       "    </tr>\n",
       "  </thead>\n",
       "  <tbody>\n",
       "    <tr>\n",
       "      <th>1</th>\n",
       "      <td>Oil &amp; Gas Operations</td>\n",
       "      <td>28</td>\n",
       "    </tr>\n",
       "    <tr>\n",
       "      <th>2</th>\n",
       "      <td>Investment Services</td>\n",
       "      <td>25</td>\n",
       "    </tr>\n",
       "    <tr>\n",
       "      <th>3</th>\n",
       "      <td>Electric Utilities</td>\n",
       "      <td>25</td>\n",
       "    </tr>\n",
       "    <tr>\n",
       "      <th>4</th>\n",
       "      <td>Real Estate</td>\n",
       "      <td>25</td>\n",
       "    </tr>\n",
       "    <tr>\n",
       "      <th>5</th>\n",
       "      <td>Regional Banks</td>\n",
       "      <td>20</td>\n",
       "    </tr>\n",
       "    <tr>\n",
       "      <th>6</th>\n",
       "      <td>Business &amp; Personal Services</td>\n",
       "      <td>19</td>\n",
       "    </tr>\n",
       "    <tr>\n",
       "      <th>7</th>\n",
       "      <td>Semiconductors</td>\n",
       "      <td>17</td>\n",
       "    </tr>\n",
       "    <tr>\n",
       "      <th>8</th>\n",
       "      <td>Software &amp; Programming</td>\n",
       "      <td>17</td>\n",
       "    </tr>\n",
       "    <tr>\n",
       "      <th>9</th>\n",
       "      <td>Food Processing</td>\n",
       "      <td>14</td>\n",
       "    </tr>\n",
       "    <tr>\n",
       "      <th>10</th>\n",
       "      <td>Medical Equipment &amp; Supplies</td>\n",
       "      <td>13</td>\n",
       "    </tr>\n",
       "    <tr>\n",
       "      <th>11</th>\n",
       "      <td>Specialty Stores</td>\n",
       "      <td>12</td>\n",
       "    </tr>\n",
       "    <tr>\n",
       "      <th>12</th>\n",
       "      <td>Aerospace &amp; Defense</td>\n",
       "      <td>12</td>\n",
       "    </tr>\n",
       "    <tr>\n",
       "      <th>13</th>\n",
       "      <td>Diversified Insurance</td>\n",
       "      <td>12</td>\n",
       "    </tr>\n",
       "    <tr>\n",
       "      <th>14</th>\n",
       "      <td>Major Banks</td>\n",
       "      <td>11</td>\n",
       "    </tr>\n",
       "    <tr>\n",
       "      <th>15</th>\n",
       "      <td>Pharmaceuticals</td>\n",
       "      <td>11</td>\n",
       "    </tr>\n",
       "    <tr>\n",
       "      <th>16</th>\n",
       "      <td>Healthcare Services</td>\n",
       "      <td>10</td>\n",
       "    </tr>\n",
       "    <tr>\n",
       "      <th>17</th>\n",
       "      <td>Household/Personal Care</td>\n",
       "      <td>10</td>\n",
       "    </tr>\n",
       "    <tr>\n",
       "      <th>18</th>\n",
       "      <td>Life &amp; Health Insurance</td>\n",
       "      <td>9</td>\n",
       "    </tr>\n",
       "    <tr>\n",
       "      <th>19</th>\n",
       "      <td>Biotechs</td>\n",
       "      <td>9</td>\n",
       "    </tr>\n",
       "    <tr>\n",
       "      <th>20</th>\n",
       "      <td>Conglomerates</td>\n",
       "      <td>9</td>\n",
       "    </tr>\n",
       "  </tbody>\n",
       "</table>\n",
       "</div>"
      ],
      "text/plain": [
       "                        Industry  Count\n",
       "1           Oil & Gas Operations     28\n",
       "2            Investment Services     25\n",
       "3             Electric Utilities     25\n",
       "4                    Real Estate     25\n",
       "5                 Regional Banks     20\n",
       "6   Business & Personal Services     19\n",
       "7                 Semiconductors     17\n",
       "8         Software & Programming     17\n",
       "9                Food Processing     14\n",
       "10  Medical Equipment & Supplies     13\n",
       "11              Specialty Stores     12\n",
       "12           Aerospace & Defense     12\n",
       "13         Diversified Insurance     12\n",
       "14                   Major Banks     11\n",
       "15               Pharmaceuticals     11\n",
       "16           Healthcare Services     10\n",
       "17       Household/Personal Care     10\n",
       "18       Life & Health Insurance      9\n",
       "19                      Biotechs      9\n",
       "20                 Conglomerates      9"
      ]
     },
     "execution_count": 97,
     "metadata": {},
     "output_type": "execute_result"
    }
   ],
   "source": [
    "forbes_USIndustry"
   ]
  },
  {
   "cell_type": "code",
   "execution_count": 98,
   "metadata": {},
   "outputs": [
    {
     "data": {
      "image/png": "[encoded data removed]",
      "text/plain": [
       "<Figure size 432x288 with 1 Axes>"
      ]
     },
     "metadata": {
      "needs_background": "light"
     },
     "output_type": "display_data"
    }
   ],
   "source": [
    "USIndustry_bar = sns.barplot(x = 'Count', y = 'Industry', data = forbes_USIndustry, orient = 'h', palette = 'Dark2').set_title(\"Industries of the Largest American Companies\")"
   ]
  },
  {
   "cell_type": "code",
   "execution_count": 100,
   "metadata": {},
   "outputs": [
    {
     "data": {
      "image/png": "[encoded data removed]",
      "text/plain": [
       "<Figure size 432x288 with 1 Axes>"
      ]
     },
     "metadata": {
      "needs_background": "light"
     },
     "output_type": "display_data"
    }
   ],
   "source": [
    "founded_bar = sns.barplot(x = 'Founded', y = 'Count', data = forbes_FoundedCountTop, palette = 'deep').set_title(\"Most Common Years of Establishment on Forbes Top 2000\")"
   ]
  },
  {
   "cell_type": "code",
   "execution_count": null,
   "metadata": {},
   "outputs": [],
   "source": []
  },
  {
   "cell_type": "code",
   "execution_count": 102,
   "metadata": {},
   "outputs": [
    {
     "data": {
      "text/html": [
       "<div>\n",
       "<style scoped>\n",
       "    .dataframe tbody tr th:only-of-type {\n",
       "        vertical-align: middle;\n",
       "    }\n",
       "\n",
       "    .dataframe tbody tr th {\n",
       "        vertical-align: top;\n",
       "    }\n",
       "\n",
       "    .dataframe thead th {\n",
       "        text-align: right;\n",
       "    }\n",
       "</style>\n",
       "<table border=\"1\" class=\"dataframe\">\n",
       "  <thead>\n",
       "    <tr style=\"text-align: right;\">\n",
       "      <th></th>\n",
       "      <th>Founded</th>\n",
       "      <th>Count</th>\n",
       "    </tr>\n",
       "  </thead>\n",
       "  <tbody>\n",
       "    <tr>\n",
       "      <th>1</th>\n",
       "      <td>2004</td>\n",
       "      <td>11</td>\n",
       "    </tr>\n",
       "    <tr>\n",
       "      <th>2</th>\n",
       "      <td>1971</td>\n",
       "      <td>11</td>\n",
       "    </tr>\n",
       "    <tr>\n",
       "      <th>3</th>\n",
       "      <td>1985</td>\n",
       "      <td>11</td>\n",
       "    </tr>\n",
       "    <tr>\n",
       "      <th>4</th>\n",
       "      <td>1986</td>\n",
       "      <td>11</td>\n",
       "    </tr>\n",
       "    <tr>\n",
       "      <th>5</th>\n",
       "      <td>1968</td>\n",
       "      <td>10</td>\n",
       "    </tr>\n",
       "    <tr>\n",
       "      <th>6</th>\n",
       "      <td>1995</td>\n",
       "      <td>10</td>\n",
       "    </tr>\n",
       "    <tr>\n",
       "      <th>7</th>\n",
       "      <td>1998</td>\n",
       "      <td>10</td>\n",
       "    </tr>\n",
       "    <tr>\n",
       "      <th>8</th>\n",
       "      <td>1997</td>\n",
       "      <td>10</td>\n",
       "    </tr>\n",
       "    <tr>\n",
       "      <th>9</th>\n",
       "      <td>2005</td>\n",
       "      <td>9</td>\n",
       "    </tr>\n",
       "    <tr>\n",
       "      <th>10</th>\n",
       "      <td>1984</td>\n",
       "      <td>9</td>\n",
       "    </tr>\n",
       "    <tr>\n",
       "      <th>11</th>\n",
       "      <td>1993</td>\n",
       "      <td>9</td>\n",
       "    </tr>\n",
       "  </tbody>\n",
       "</table>\n",
       "</div>"
      ],
      "text/plain": [
       "   Founded  Count\n",
       "1     2004     11\n",
       "2     1971     11\n",
       "3     1985     11\n",
       "4     1986     11\n",
       "5     1968     10\n",
       "6     1995     10\n",
       "7     1998     10\n",
       "8     1997     10\n",
       "9     2005      9\n",
       "10    1984      9\n",
       "11    1993      9"
      ]
     },
     "execution_count": 102,
     "metadata": {},
     "output_type": "execute_result"
    }
   ],
   "source": [
    "forbes_USFounded.head(11)"
   ]
  },
  {
   "cell_type": "code",
   "execution_count": 103,
   "metadata": {},
   "outputs": [
    {
     "data": {
      "image/png": "[encoded data removed]",
      "text/plain": [
       "<Figure size 432x288 with 1 Axes>"
      ]
     },
     "metadata": {
      "needs_background": "light"
     },
     "output_type": "display_data"
    }
   ],
   "source": [
    "USfounded_bar = sns.barplot(x = 'Founded', y = 'Count', data = USFounded, palette = 'deep').set_title(\"Most Common Years of Establishment for American Companies\")"
   ]
  },
  {
   "cell_type": "code",
   "execution_count": null,
   "metadata": {},
   "outputs": [],
   "source": []
  },
  {
   "cell_type": "code",
   "execution_count": 104,
   "metadata": {},
   "outputs": [],
   "source": [
    "forbesAssets = forbes.sort_values(\"Assets\", ascending = False)"
   ]
  },
  {
   "cell_type": "code",
   "execution_count": 105,
   "metadata": {},
   "outputs": [],
   "source": [
    "forbes1 = forbesAssets.iloc[:100]"
   ]
  },
  {
   "cell_type": "code",
   "execution_count": 106,
   "metadata": {},
   "outputs": [],
   "source": [
    "forbes2 = forbesAssets.iloc[900:1100]"
   ]
  },
  {
   "cell_type": "code",
   "execution_count": null,
   "metadata": {},
   "outputs": [],
   "source": []
  },
  {
   "cell_type": "markdown",
   "metadata": {},
   "source": [
    "# Assets vs Sales"
   ]
  },
  {
   "cell_type": "markdown",
   "metadata": {},
   "source": [
    "Top 100"
   ]
  },
  {
   "cell_type": "code",
   "execution_count": 107,
   "metadata": {},
   "outputs": [
    {
     "data": {
      "text/plain": [
       "Text(0.5, 1.0, 'Top 100')"
      ]
     },
     "execution_count": 107,
     "metadata": {},
     "output_type": "execute_result"
    },
    {
     "data": {
      "image/png": "[encoded data removed]",
      "text/plain": [
       "<Figure size 432x288 with 1 Axes>"
      ]
     },
     "metadata": {
      "needs_background": "light"
     },
     "output_type": "display_data"
    }
   ],
   "source": [
    "sns.regplot(x = \"Assets\", y = \"Sales\", data = forbes1, color = 'red').set_title(\"Top 100\")"
   ]
  },
  {
   "cell_type": "markdown",
   "metadata": {},
   "source": [
    "Middle"
   ]
  },
  {
   "cell_type": "code",
   "execution_count": 108,
   "metadata": {},
   "outputs": [
    {
     "data": {
      "text/plain": [
       "Text(0.5, 1.0, 'Middle')"
      ]
     },
     "execution_count": 108,
     "metadata": {},
     "output_type": "execute_result"
    },
    {
     "data": {
      "image/png": "[encoded data removed]",
      "text/plain": [
       "<Figure size 432x288 with 1 Axes>"
      ]
     },
     "metadata": {
      "needs_background": "light"
     },
     "output_type": "display_data"
    }
   ],
   "source": [
    "sns.regplot(x = \"Assets\", y = \"Sales\", data = forbes2, color = \"tomato\").set_title(\"Middle\")"
   ]
  },
  {
   "cell_type": "markdown",
   "metadata": {},
   "source": [
    "All"
   ]
  },
  {
   "cell_type": "code",
   "execution_count": 109,
   "metadata": {},
   "outputs": [
    {
     "data": {
      "text/plain": [
       "Text(0.5, 1.0, 'Forbes Top 2000')"
      ]
     },
     "execution_count": 109,
     "metadata": {},
     "output_type": "execute_result"
    },
    {
     "data": {
      "image/png": "[encoded data removed]",
      "text/plain": [
       "<Figure size 432x288 with 1 Axes>"
      ]
     },
     "metadata": {
      "needs_background": "light"
     },
     "output_type": "display_data"
    }
   ],
   "source": [
    "sns.regplot(x = \"Assets\", y = \"Sales\", data = forbes, color = 'firebrick').set_title(\"Forbes Top 2000\")"
   ]
  },
  {
   "cell_type": "markdown",
   "metadata": {},
   "source": [
    "# Assets vs Market Cap"
   ]
  },
  {
   "cell_type": "markdown",
   "metadata": {},
   "source": [
    "Top 100"
   ]
  },
  {
   "cell_type": "code",
   "execution_count": 110,
   "metadata": {},
   "outputs": [
    {
     "data": {
      "text/plain": [
       "Text(0.5, 1.0, 'Top 100')"
      ]
     },
     "execution_count": 110,
     "metadata": {},
     "output_type": "execute_result"
    },
    {
     "data": {
      "image/png": "[encoded data removed]",
      "text/plain": [
       "<Figure size 432x288 with 1 Axes>"
      ]
     },
     "metadata": {
      "needs_background": "light"
     },
     "output_type": "display_data"
    }
   ],
   "source": [
    "sns.regplot(x = \"Assets\", y = \"Market Capitalization\", data = forbes1, color = 'seagreen').set_title(\"Top 100\")"
   ]
  },
  {
   "cell_type": "markdown",
   "metadata": {},
   "source": [
    "Middle"
   ]
  },
  {
   "cell_type": "code",
   "execution_count": 111,
   "metadata": {},
   "outputs": [
    {
     "data": {
      "text/plain": [
       "Text(0.5, 1.0, 'Middle')"
      ]
     },
     "execution_count": 111,
     "metadata": {},
     "output_type": "execute_result"
    },
    {
     "data": {
      "image/png": "[encoded data removed]",
      "text/plain": [
       "<Figure size 432x288 with 1 Axes>"
      ]
     },
     "metadata": {
      "needs_background": "light"
     },
     "output_type": "display_data"
    }
   ],
   "source": [
    "sns.regplot(x = \"Assets\", y = \"Market Capitalization\", data = forbes2, color = 'teal').set_title(\"Middle\")"
   ]
  },
  {
   "cell_type": "markdown",
   "metadata": {},
   "source": [
    "All"
   ]
  },
  {
   "cell_type": "code",
   "execution_count": 112,
   "metadata": {},
   "outputs": [
    {
     "data": {
      "text/plain": [
       "Text(0.5, 1.0, 'Forbes Top 2000')"
      ]
     },
     "execution_count": 112,
     "metadata": {},
     "output_type": "execute_result"
    },
    {
     "data": {
      "image/png": "[encoded data removed]",
      "text/plain": [
       "<Figure size 432x288 with 1 Axes>"
      ]
     },
     "metadata": {
      "needs_background": "light"
     },
     "output_type": "display_data"
    }
   ],
   "source": [
    "sns.regplot(x = \"Assets\", y = \"Market Capitalization\", data = forbes, color = 'limegreen').set_title(\"Forbes Top 2000\")"
   ]
  },
  {
   "cell_type": "code",
   "execution_count": null,
   "metadata": {},
   "outputs": [],
   "source": []
  },
  {
   "cell_type": "markdown",
   "metadata": {},
   "source": [
    "# Market Cap vs Profit"
   ]
  },
  {
   "cell_type": "markdown",
   "metadata": {},
   "source": [
    "Top 100"
   ]
  },
  {
   "cell_type": "code",
   "execution_count": 113,
   "metadata": {},
   "outputs": [
    {
     "data": {
      "text/plain": [
       "Text(0.5, 1.0, 'Top 100')"
      ]
     },
     "execution_count": 113,
     "metadata": {},
     "output_type": "execute_result"
    },
    {
     "data": {
      "image/png": "[encoded data removed]",
      "text/plain": [
       "<Figure size 432x288 with 1 Axes>"
      ]
     },
     "metadata": {
      "needs_background": "light"
     },
     "output_type": "display_data"
    }
   ],
   "source": [
    "sns.regplot(x = \"Market Capitalization\", y = \"Profits\", data = forbes1).set_title(\"Top 100\")"
   ]
  },
  {
   "cell_type": "markdown",
   "metadata": {},
   "source": [
    "Middle"
   ]
  },
  {
   "cell_type": "code",
   "execution_count": 114,
   "metadata": {},
   "outputs": [
    {
     "data": {
      "text/plain": [
       "Text(0.5, 1.0, 'Middle')"
      ]
     },
     "execution_count": 114,
     "metadata": {},
     "output_type": "execute_result"
    },
    {
     "data": {
      "image/png": "[encoded data removed]",
      "text/plain": [
       "<Figure size 432x288 with 1 Axes>"
      ]
     },
     "metadata": {
      "needs_background": "light"
     },
     "output_type": "display_data"
    }
   ],
   "source": [
    "sns.regplot(x = \"Market Capitalization\", y = \"Profits\", data = forbes2, color = 'royalblue').set_title(\"Middle\")"
   ]
  },
  {
   "cell_type": "markdown",
   "metadata": {},
   "source": [
    "All"
   ]
  },
  {
   "cell_type": "code",
   "execution_count": 115,
   "metadata": {},
   "outputs": [
    {
     "data": {
      "text/plain": [
       "Text(0.5, 1.0, 'Forbes Top 2000')"
      ]
     },
     "execution_count": 115,
     "metadata": {},
     "output_type": "execute_result"
    },
    {
     "data": {
      "image/png": "[encoded data removed]",
      "text/plain": [
       "<Figure size 432x288 with 1 Axes>"
      ]
     },
     "metadata": {
      "needs_background": "light"
     },
     "output_type": "display_data"
    }
   ],
   "source": [
    "sns.regplot(x = \"Market Capitalization\", y = \"Profits\", data = forbes, color = 'midnightblue').set_title(\"Forbes Top 2000\")"
   ]
  },
  {
   "cell_type": "markdown",
   "metadata": {},
   "source": [
    "# Assets vs Profit"
   ]
  },
  {
   "cell_type": "markdown",
   "metadata": {},
   "source": [
    "Top 100"
   ]
  },
  {
   "cell_type": "code",
   "execution_count": 116,
   "metadata": {},
   "outputs": [
    {
     "data": {
      "text/plain": [
       "Text(0.5, 1.0, 'Top 100')"
      ]
     },
     "execution_count": 116,
     "metadata": {},
     "output_type": "execute_result"
    },
    {
     "data": {
      "image/png": "[encoded data removed]",
      "text/plain": [
       "<Figure size 432x288 with 1 Axes>"
      ]
     },
     "metadata": {
      "needs_background": "light"
     },
     "output_type": "display_data"
    }
   ],
   "source": [
    "sns.regplot(x = \"Assets\", y = \"Profits\", data = forbes1, color = \"darkorchid\").set_title(\"Top 100\")"
   ]
  },
  {
   "cell_type": "markdown",
   "metadata": {},
   "source": [
    "Middle"
   ]
  },
  {
   "cell_type": "code",
   "execution_count": 117,
   "metadata": {},
   "outputs": [
    {
     "data": {
      "text/plain": [
       "Text(0.5, 1.0, 'Middle')"
      ]
     },
     "execution_count": 117,
     "metadata": {},
     "output_type": "execute_result"
    },
    {
     "data": {
      "image/png": "[encoded data removed]",
      "text/plain": [
       "<Figure size 432x288 with 1 Axes>"
      ]
     },
     "metadata": {
      "needs_background": "light"
     },
     "output_type": "display_data"
    }
   ],
   "source": [
    "sns.regplot(x = \"Assets\", y = \"Profits\", data = forbes2, color = 'plum').set_title(\"Middle\")"
   ]
  },
  {
   "cell_type": "markdown",
   "metadata": {},
   "source": [
    "All"
   ]
  },
  {
   "cell_type": "code",
   "execution_count": 118,
   "metadata": {},
   "outputs": [
    {
     "data": {
      "text/plain": [
       "Text(0.5, 1.0, 'Forbes Top 2000')"
      ]
     },
     "execution_count": 118,
     "metadata": {},
     "output_type": "execute_result"
    },
    {
     "data": {
      "image/png": "[encoded data removed]",
      "text/plain": [
       "<Figure size 432x288 with 1 Axes>"
      ]
     },
     "metadata": {
      "needs_background": "light"
     },
     "output_type": "display_data"
    }
   ],
   "source": [
    "sns.regplot(x = \"Assets\", y = \"Profits\", data = forbes, color = 'darkmagenta').set_title(\"Forbes Top 2000\")"
   ]
  },
  {
   "cell_type": "markdown",
   "metadata": {},
   "source": [
    "# Market Cap vs. Sales"
   ]
  },
  {
   "cell_type": "markdown",
   "metadata": {},
   "source": [
    "Top 100"
   ]
  },
  {
   "cell_type": "code",
   "execution_count": 119,
   "metadata": {},
   "outputs": [
    {
     "data": {
      "text/plain": [
       "Text(0.5, 1.0, 'Top 100')"
      ]
     },
     "execution_count": 119,
     "metadata": {},
     "output_type": "execute_result"
    },
    {
     "data": {
      "image/png": "[encoded data removed]",
      "text/plain": [
       "<Figure size 432x288 with 1 Axes>"
      ]
     },
     "metadata": {
      "needs_background": "light"
     },
     "output_type": "display_data"
    }
   ],
   "source": [
    "sns.regplot(x = \"Market Capitalization\", y = \"Sales\", data = forbes1, color = 'forestgreen').set_title(\"Top 100\")"
   ]
  },
  {
   "cell_type": "markdown",
   "metadata": {},
   "source": [
    "Middle"
   ]
  },
  {
   "cell_type": "code",
   "execution_count": 120,
   "metadata": {},
   "outputs": [
    {
     "data": {
      "text/plain": [
       "Text(0.5, 1.0, 'Middle')"
      ]
     },
     "execution_count": 120,
     "metadata": {},
     "output_type": "execute_result"
    },
    {
     "data": {
      "image/png": "[encoded data removed]",
      "text/plain": [
       "<Figure size 432x288 with 1 Axes>"
      ]
     },
     "metadata": {
      "needs_background": "light"
     },
     "output_type": "display_data"
    }
   ],
   "source": [
    "sns.regplot(x = \"Market Capitalization\", y = \"Sales\", data = forbes2, color = 'olive').set_title(\"Middle\")"
   ]
  },
  {
   "cell_type": "markdown",
   "metadata": {},
   "source": [
    "All"
   ]
  },
  {
   "cell_type": "code",
   "execution_count": 121,
   "metadata": {},
   "outputs": [
    {
     "data": {
      "text/plain": [
       "Text(0.5, 1.0, 'Forbes Top 2000')"
      ]
     },
     "execution_count": 121,
     "metadata": {},
     "output_type": "execute_result"
    },
    {
     "data": {
      "image/png": "[encoded data removed]",
      "text/plain": [
       "<Figure size 432x288 with 1 Axes>"
      ]
     },
     "metadata": {
      "needs_background": "light"
     },
     "output_type": "display_data"
    }
   ],
   "source": [
    "sns.regplot(x = \"Market Capitalization\", y = \"Sales\", data = forbes, color = 'chartreuse').set_title(\"Forbes Top 2000\")"
   ]
  },
  {
   "cell_type": "markdown",
   "metadata": {},
   "source": [
    "Correlation Comparisons"
   ]
  },
  {
   "cell_type": "code",
   "execution_count": null,
   "metadata": {},
   "outputs": [],
   "source": []
  },
  {
   "cell_type": "code",
   "execution_count": null,
   "metadata": {},
   "outputs": [],
   "source": []
  },
  {
   "cell_type": "code",
   "execution_count": 1127,
   "metadata": {},
   "outputs": [
    {
     "data": {
      "text/html": [
       "<div>\n",
       "<style scoped>\n",
       "    .dataframe tbody tr th:only-of-type {\n",
       "        vertical-align: middle;\n",
       "    }\n",
       "\n",
       "    .dataframe tbody tr th {\n",
       "        vertical-align: top;\n",
       "    }\n",
       "\n",
       "    .dataframe thead th {\n",
       "        text-align: right;\n",
       "    }\n",
       "</style>\n",
       "<table border=\"1\" class=\"dataframe\">\n",
       "  <thead>\n",
       "    <tr style=\"text-align: right;\">\n",
       "      <th></th>\n",
       "      <th>Assets</th>\n",
       "      <th>Sales</th>\n",
       "      <th>Profits</th>\n",
       "      <th>Market Capitalization</th>\n",
       "      <th>Employees</th>\n",
       "      <th>Founded</th>\n",
       "    </tr>\n",
       "  </thead>\n",
       "  <tbody>\n",
       "    <tr>\n",
       "      <th>Assets</th>\n",
       "      <td>1.000000</td>\n",
       "      <td>0.367808</td>\n",
       "      <td>0.490986</td>\n",
       "      <td>0.320224</td>\n",
       "      <td>0.224837</td>\n",
       "      <td>-0.081017</td>\n",
       "    </tr>\n",
       "    <tr>\n",
       "      <th>Sales</th>\n",
       "      <td>0.367808</td>\n",
       "      <td>1.000000</td>\n",
       "      <td>0.571442</td>\n",
       "      <td>0.554797</td>\n",
       "      <td>0.634357</td>\n",
       "      <td>-0.069690</td>\n",
       "    </tr>\n",
       "    <tr>\n",
       "      <th>Profits</th>\n",
       "      <td>0.490986</td>\n",
       "      <td>0.571442</td>\n",
       "      <td>1.000000</td>\n",
       "      <td>0.714161</td>\n",
       "      <td>0.314648</td>\n",
       "      <td>-0.035513</td>\n",
       "    </tr>\n",
       "    <tr>\n",
       "      <th>Market Capitalization</th>\n",
       "      <td>0.320224</td>\n",
       "      <td>0.554797</td>\n",
       "      <td>0.714161</td>\n",
       "      <td>1.000000</td>\n",
       "      <td>0.308573</td>\n",
       "      <td>-0.032288</td>\n",
       "    </tr>\n",
       "    <tr>\n",
       "      <th>Employees</th>\n",
       "      <td>0.224837</td>\n",
       "      <td>0.634357</td>\n",
       "      <td>0.314648</td>\n",
       "      <td>0.308573</td>\n",
       "      <td>1.000000</td>\n",
       "      <td>-0.038618</td>\n",
       "    </tr>\n",
       "    <tr>\n",
       "      <th>Founded</th>\n",
       "      <td>-0.081017</td>\n",
       "      <td>-0.069690</td>\n",
       "      <td>-0.035513</td>\n",
       "      <td>-0.032288</td>\n",
       "      <td>-0.038618</td>\n",
       "      <td>1.000000</td>\n",
       "    </tr>\n",
       "  </tbody>\n",
       "</table>\n",
       "</div>"
      ],
      "text/plain": [
       "                         Assets     Sales   Profits  Market Capitalization  \\\n",
       "Assets                 1.000000  0.367808  0.490986               0.320224   \n",
       "Sales                  0.367808  1.000000  0.571442               0.554797   \n",
       "Profits                0.490986  0.571442  1.000000               0.714161   \n",
       "Market Capitalization  0.320224  0.554797  0.714161               1.000000   \n",
       "Employees              0.224837  0.634357  0.314648               0.308573   \n",
       "Founded               -0.081017 -0.069690 -0.035513              -0.032288   \n",
       "\n",
       "                       Employees   Founded  \n",
       "Assets                  0.224837 -0.081017  \n",
       "Sales                   0.634357 -0.069690  \n",
       "Profits                 0.314648 -0.035513  \n",
       "Market Capitalization   0.308573 -0.032288  \n",
       "Employees               1.000000 -0.038618  \n",
       "Founded                -0.038618  1.000000  "
      ]
     },
     "execution_count": 1127,
     "metadata": {},
     "output_type": "execute_result"
    }
   ],
   "source": [
    "forbes.corr()"
   ]
  },
  {
   "cell_type": "code",
   "execution_count": 1128,
   "metadata": {},
   "outputs": [
    {
     "data": {
      "text/html": [
       "<div>\n",
       "<style scoped>\n",
       "    .dataframe tbody tr th:only-of-type {\n",
       "        vertical-align: middle;\n",
       "    }\n",
       "\n",
       "    .dataframe tbody tr th {\n",
       "        vertical-align: top;\n",
       "    }\n",
       "\n",
       "    .dataframe thead th {\n",
       "        text-align: right;\n",
       "    }\n",
       "</style>\n",
       "<table border=\"1\" class=\"dataframe\">\n",
       "  <thead>\n",
       "    <tr style=\"text-align: right;\">\n",
       "      <th></th>\n",
       "    </tr>\n",
       "  </thead>\n",
       "  <tbody>\n",
       "  </tbody>\n",
       "</table>\n",
       "</div>"
      ],
      "text/plain": [
       "Empty DataFrame\n",
       "Columns: []\n",
       "Index: []"
      ]
     },
     "execution_count": 1128,
     "metadata": {},
     "output_type": "execute_result"
    }
   ],
   "source": [
    "forbes1.corr()"
   ]
  },
  {
   "cell_type": "code",
   "execution_count": 1129,
   "metadata": {},
   "outputs": [
    {
     "data": {
      "text/html": [
       "<div>\n",
       "<style scoped>\n",
       "    .dataframe tbody tr th:only-of-type {\n",
       "        vertical-align: middle;\n",
       "    }\n",
       "\n",
       "    .dataframe tbody tr th {\n",
       "        vertical-align: top;\n",
       "    }\n",
       "\n",
       "    .dataframe thead th {\n",
       "        text-align: right;\n",
       "    }\n",
       "</style>\n",
       "<table border=\"1\" class=\"dataframe\">\n",
       "  <thead>\n",
       "    <tr style=\"text-align: right;\">\n",
       "      <th></th>\n",
       "    </tr>\n",
       "  </thead>\n",
       "  <tbody>\n",
       "  </tbody>\n",
       "</table>\n",
       "</div>"
      ],
      "text/plain": [
       "Empty DataFrame\n",
       "Columns: []\n",
       "Index: []"
      ]
     },
     "execution_count": 1129,
     "metadata": {},
     "output_type": "execute_result"
    }
   ],
   "source": [
    "forbes2.corr()"
   ]
  },
  {
   "cell_type": "code",
   "execution_count": null,
   "metadata": {},
   "outputs": [],
   "source": []
  },
  {
   "cell_type": "code",
   "execution_count": null,
   "metadata": {},
   "outputs": [],
   "source": []
  },
  {
   "cell_type": "code",
   "execution_count": null,
   "metadata": {},
   "outputs": [],
   "source": []
  },
  {
   "cell_type": "code",
   "execution_count": null,
   "metadata": {},
   "outputs": [],
   "source": []
  },
  {
   "cell_type": "code",
   "execution_count": null,
   "metadata": {},
   "outputs": [],
   "source": []
  },
  {
   "cell_type": "code",
   "execution_count": null,
   "metadata": {},
   "outputs": [],
   "source": []
  },
  {
   "cell_type": "code",
   "execution_count": null,
   "metadata": {},
   "outputs": [],
   "source": []
  },
  {
   "cell_type": "code",
   "execution_count": null,
   "metadata": {},
   "outputs": [],
   "source": []
  },
  {
   "cell_type": "code",
   "execution_count": null,
   "metadata": {},
   "outputs": [],
   "source": []
  },
  {
   "cell_type": "code",
   "execution_count": null,
   "metadata": {},
   "outputs": [],
   "source": []
  }
 ],
 "metadata": {
  "kernelspec": {
   "display_name": "Python 3 (ipykernel)",
   "language": "python",
   "name": "python3"
  },
  "language_info": {
   "codemirror_mode": {
    "name": "ipython",
    "version": 3
   },
   "file_extension": ".py",
   "mimetype": "text/x-python",
   "name": "python",
   "nbconvert_exporter": "python",
   "pygments_lexer": "ipython3",
   "version": "3.9.12"
  }
 },
 "nbformat": 4,
 "nbformat_minor": 2
}
